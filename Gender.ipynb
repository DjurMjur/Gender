{
 "cells": [
  {
   "cell_type": "markdown",
   "metadata": {},
   "source": [
    "### Loading libraries"
   ]
  },
  {
   "cell_type": "code",
   "execution_count": 100,
   "metadata": {},
   "outputs": [],
   "source": [
    "import pandas as pd\n",
    "import numpy as np\n",
    "import seaborn as sns\n",
    "import matplotlib.pyplot as plt\n",
    "import plotly.express as px"
   ]
  },
  {
   "cell_type": "markdown",
   "metadata": {},
   "source": [
    "### Loading data"
   ]
  },
  {
   "cell_type": "markdown",
   "metadata": {},
   "source": [
    "Data collected in State-Sponsored Homophobia 2020: Global Legislation Overview Update (published in December 2020).\n",
    "https://ilga.org/maps-sexual-orientation-laws"
   ]
  },
  {
   "cell_type": "code",
   "execution_count": 5,
   "metadata": {},
   "outputs": [],
   "source": [
    "df = pd.read_csv(\"omophobia.csv\", encoding='latin-1', delimiter=';')"
   ]
  },
  {
   "cell_type": "markdown",
   "metadata": {},
   "source": [
    "### Inspecting data"
   ]
  },
  {
   "cell_type": "code",
   "execution_count": 7,
   "metadata": {},
   "outputs": [
    {
     "data": {
      "text/plain": [
       "(241, 14)"
      ]
     },
     "execution_count": 7,
     "metadata": {},
     "output_type": "execute_result"
    }
   ],
   "source": [
    "df.shape"
   ]
  },
  {
   "cell_type": "code",
   "execution_count": 6,
   "metadata": {},
   "outputs": [
    {
     "data": {
      "text/html": [
       "<div>\n",
       "<style scoped>\n",
       "    .dataframe tbody tr th:only-of-type {\n",
       "        vertical-align: middle;\n",
       "    }\n",
       "\n",
       "    .dataframe tbody tr th {\n",
       "        vertical-align: top;\n",
       "    }\n",
       "\n",
       "    .dataframe thead th {\n",
       "        text-align: right;\n",
       "    }\n",
       "</style>\n",
       "<table border=\"1\" class=\"dataframe\">\n",
       "  <thead>\n",
       "    <tr style=\"text-align: right;\">\n",
       "      <th></th>\n",
       "      <th>COUNTRY</th>\n",
       "      <th>CSSSA LEGAL?</th>\n",
       "      <th>DATE OF DECRIM</th>\n",
       "      <th>MAX PENALTY</th>\n",
       "      <th>CONST.</th>\n",
       "      <th>BROAD PROT.</th>\n",
       "      <th>EMPLOY.</th>\n",
       "      <th>HATE CRIME</th>\n",
       "      <th>INCITEMENT</th>\n",
       "      <th>BAN CONV. THERAPIES</th>\n",
       "      <th>SAME SEX MARRIAGE</th>\n",
       "      <th>CIVIL UNIONS</th>\n",
       "      <th>JOINT ADOPTION</th>\n",
       "      <th>SECOND PARENT ADOPTION</th>\n",
       "    </tr>\n",
       "  </thead>\n",
       "  <tbody>\n",
       "    <tr>\n",
       "      <th>0</th>\n",
       "      <td>Algeria</td>\n",
       "      <td>NO</td>\n",
       "      <td>-</td>\n",
       "      <td>2</td>\n",
       "      <td>NO</td>\n",
       "      <td>NO</td>\n",
       "      <td>NO</td>\n",
       "      <td>NO</td>\n",
       "      <td>NO</td>\n",
       "      <td>NO</td>\n",
       "      <td>NO</td>\n",
       "      <td>NO</td>\n",
       "      <td>NO</td>\n",
       "      <td>NO</td>\n",
       "    </tr>\n",
       "    <tr>\n",
       "      <th>1</th>\n",
       "      <td>Angola</td>\n",
       "      <td>YES</td>\n",
       "      <td>2021</td>\n",
       "      <td>-</td>\n",
       "      <td>NO</td>\n",
       "      <td>YES</td>\n",
       "      <td>YES</td>\n",
       "      <td>YES</td>\n",
       "      <td>YES</td>\n",
       "      <td>NO</td>\n",
       "      <td>NO</td>\n",
       "      <td>NO</td>\n",
       "      <td>NO</td>\n",
       "      <td>NO</td>\n",
       "    </tr>\n",
       "    <tr>\n",
       "      <th>2</th>\n",
       "      <td>Benin</td>\n",
       "      <td>YES</td>\n",
       "      <td>NEVER CRIM</td>\n",
       "      <td>-</td>\n",
       "      <td>NO</td>\n",
       "      <td>NO</td>\n",
       "      <td>NO</td>\n",
       "      <td>NO</td>\n",
       "      <td>NO</td>\n",
       "      <td>NO</td>\n",
       "      <td>NO</td>\n",
       "      <td>NO</td>\n",
       "      <td>NO</td>\n",
       "      <td>NO</td>\n",
       "    </tr>\n",
       "    <tr>\n",
       "      <th>3</th>\n",
       "      <td>Botswana</td>\n",
       "      <td>YES</td>\n",
       "      <td>2019</td>\n",
       "      <td>-</td>\n",
       "      <td>NO</td>\n",
       "      <td>NO</td>\n",
       "      <td>YES</td>\n",
       "      <td>NO</td>\n",
       "      <td>NO</td>\n",
       "      <td>NO</td>\n",
       "      <td>NO</td>\n",
       "      <td>NO</td>\n",
       "      <td>NO</td>\n",
       "      <td>NO</td>\n",
       "    </tr>\n",
       "    <tr>\n",
       "      <th>4</th>\n",
       "      <td>Burkina Faso</td>\n",
       "      <td>YES</td>\n",
       "      <td>NEVER CRIM</td>\n",
       "      <td>-</td>\n",
       "      <td>NO</td>\n",
       "      <td>NO</td>\n",
       "      <td>NO</td>\n",
       "      <td>NO</td>\n",
       "      <td>NO</td>\n",
       "      <td>NO</td>\n",
       "      <td>NO</td>\n",
       "      <td>NO</td>\n",
       "      <td>NO</td>\n",
       "      <td>NO</td>\n",
       "    </tr>\n",
       "  </tbody>\n",
       "</table>\n",
       "</div>"
      ],
      "text/plain": [
       "        COUNTRY CSSSA LEGAL? DATE OF DECRIM MAX PENALTY CONST. BROAD PROT.  \\\n",
       "0       Algeria           NO              -           2     NO          NO   \n",
       "1        Angola          YES           2021           -     NO         YES   \n",
       "2         Benin          YES     NEVER CRIM           -     NO          NO   \n",
       "3      Botswana          YES           2019           -     NO          NO   \n",
       "4  Burkina Faso          YES     NEVER CRIM           -     NO          NO   \n",
       "\n",
       "  EMPLOY. HATE CRIME INCITEMENT BAN CONV. THERAPIES SAME SEX MARRIAGE  \\\n",
       "0      NO         NO         NO                  NO                NO   \n",
       "1     YES        YES        YES                  NO                NO   \n",
       "2      NO         NO         NO                  NO                NO   \n",
       "3     YES         NO         NO                  NO                NO   \n",
       "4      NO         NO         NO                  NO                NO   \n",
       "\n",
       "  CIVIL UNIONS JOINT ADOPTION SECOND PARENT ADOPTION  \n",
       "0           NO             NO                     NO  \n",
       "1           NO             NO                     NO  \n",
       "2           NO             NO                     NO  \n",
       "3           NO             NO                     NO  \n",
       "4           NO             NO                     NO  "
      ]
     },
     "execution_count": 6,
     "metadata": {},
     "output_type": "execute_result"
    }
   ],
   "source": [
    "df.head()"
   ]
  },
  {
   "cell_type": "markdown",
   "metadata": {},
   "source": [
    "COUNTRY\n",
    "Country\n",
    "\n",
    "CSSSA LEGAL?\n",
    "Criminalisation of Consensual Same-Sex Sexual Acts between Adults\n",
    "\n",
    "DATE OF DECRIM\n",
    "Date of decriminalisation\n",
    "\n",
    "MAX PENALTY\n",
    "Max Penalty\n",
    "\n",
    "CONST.\n",
    "Constitutional Protection\n",
    "\n",
    "BROAD PROT.\n",
    "Broad Protection\n",
    "\n",
    "EMPLOY.\n",
    "Employement Protection\n",
    "\n",
    "HATE CRIME\n",
    "Hate Crime\n",
    "\n",
    "INCITEMENT\n",
    "Incitement\n",
    "\n",
    "BAN CONV. THERAPIES\n",
    "Ban Conversion Therapies"
   ]
  },
  {
   "cell_type": "code",
   "execution_count": 12,
   "metadata": {},
   "outputs": [],
   "source": [
    "pd.set_option('display.max_rows', None)"
   ]
  },
  {
   "cell_type": "code",
   "execution_count": 13,
   "metadata": {},
   "outputs": [
    {
     "data": {
      "text/plain": [
       "COUNTRY\n",
       "Algeria                        1\n",
       "South Korea                    1\n",
       "Italy                          1\n",
       "Latvia                         1\n",
       "Liechtenstein                  1\n",
       "Lithuania                      1\n",
       "Luxembourg                     1\n",
       "Malta                          1\n",
       "Moldova                        1\n",
       "Monaco                         1\n",
       "Montenegro                     1\n",
       "Netherlands                    1\n",
       "North Macedonia                1\n",
       "Norway                         1\n",
       "Poland                         1\n",
       "Portugal                       1\n",
       "Romania                        1\n",
       "Russia                         1\n",
       "San Marino                     1\n",
       "Serbia                         1\n",
       "Slovakia                       1\n",
       "Slovenia                       1\n",
       "Spain                          1\n",
       "Sweden                         1\n",
       "Switzerland                    1\n",
       "Turkey                         1\n",
       "Ukraine                        1\n",
       "United Kingdom                 1\n",
       "Australia                      1\n",
       "Ireland                        1\n",
       "Iceland                        1\n",
       "Hungary                        1\n",
       "Azerbaijan                     1\n",
       "Syria                          1\n",
       "Tajikistan                     1\n",
       "Thailand                       1\n",
       "Turkmenistan                   1\n",
       "Vietnam                        1\n",
       "United Arab Emirates           1\n",
       "Uzbekistan                     1\n",
       "Yemen                          1\n",
       "Albania                        1\n",
       "Andorra                        1\n",
       "Armenia                        1\n",
       "Austria                        1\n",
       "Belarus                        1\n",
       "Greece                         1\n",
       "Belgium                        1\n",
       "Bosnia & Herzegovina           1\n",
       "Bulgaria                       1\n",
       "Croatia                        1\n",
       "Cyprus                         1\n",
       "Czech Republic                 1\n",
       "Denmark                        1\n",
       "Estonia                        1\n",
       "Finland                        1\n",
       "France                         1\n",
       "Georgia                        1\n",
       "Germany                        1\n",
       "Fiji                           1\n",
       "Kiribati                       1\n",
       "Marshall Islands               1\n",
       "Reunion (FR)                   1\n",
       "Jersey (UK)                    1\n",
       "Kosovo                         1\n",
       "Macau (China)                  1\n",
       "Martinique (FR)                1\n",
       "Mayotte (FR)                   1\n",
       "Montserrat (UK)                1\n",
       "New Caledonia (FR)             1\n",
       "Niue (NZ)                      1\n",
       "North. Mariana Is. (USA)       1\n",
       "Palestine2                     1\n",
       "Pitcairn Islands (UK)          1\n",
       "Puerto Rico (USA)              1\n",
       "Saba (NL)                      1\n",
       "Hong Kong (SAR China)          1\n",
       "Saint Barthelemy (FR)          1\n",
       "Saint Martin (FR)              1\n",
       "Saint Pierre et Miq. (FR)      1\n",
       "Sint Eustatius (NL)            1\n",
       "Sint Maarten (NL)              1\n",
       "South Georg. & Sand. (UK)      1\n",
       "St. Helena, Asc., TdA (UK)     1\n",
       "Taiwan (China)                 1\n",
       "Tokelau (NZ)                   1\n",
       "Turks and Caicos (UK)          1\n",
       "US Virgin Islands (USA)        1\n",
       "Vatican City                   1\n",
       "Isle of Man (UK)               1\n",
       "Guernsey (UK)                  1\n",
       "Micronesia                     1\n",
       "Bermuda (UK)                   1\n",
       "Nauru                          1\n",
       "New Zealand                    1\n",
       "Palau                          1\n",
       "Papua New Guinea               1\n",
       "Samoa                          1\n",
       "Solomon Islands                1\n",
       "Tonga                          1\n",
       "Tuvalu                         1\n",
       "Vanuatu                        1\n",
       "American Samoa (USA)           1\n",
       "Anguilla (UK)                  1\n",
       "Aruba (NL)                     1\n",
       "Bonaire (NL)                   1\n",
       "Guam (USA)                     1\n",
       "British Indian Terr. (UK)      1\n",
       "British Virgin Islands (UK)    1\n",
       "Cayman Islands (UK)            1\n",
       "Cook Islands (NZ)              1\n",
       "Curacao (NL)                   1\n",
       "Falkland/Malv. (UK/AR)         1\n",
       "Faroe Islands (DN)             1\n",
       "French Guiana (FR)             1\n",
       "French Polynesia (FR)          1\n",
       "Gibraltar (UK)                 1\n",
       "Greenland (DN)                 1\n",
       "Guadeloupe (FR)                1\n",
       "Sri Lanka                      1\n",
       "Singapore                      1\n",
       "Angola                         1\n",
       "Saudi Arabia                   1\n",
       "Mauritania                     1\n",
       "Mauritius                      1\n",
       "Morocco                        1\n",
       "Mozambique                     1\n",
       "Namibia                        1\n",
       "Niger                          1\n",
       "Nigeria                        1\n",
       "Rwanda                         1\n",
       "Sao Tome & Principe            1\n",
       "Senegal                        1\n",
       "Seychelles                     1\n",
       "Sierra Leone                   1\n",
       "Somalia                        1\n",
       "South Africa                   1\n",
       "South Sudan                    1\n",
       "Sudan                          1\n",
       "Tanzania                       1\n",
       "Togo                           1\n",
       "Tunisia                        1\n",
       "Uganda                         1\n",
       "Zambia                         1\n",
       "Zimbabwe                       1\n",
       "Antigua and Barbuda            1\n",
       "Argentina                      1\n",
       "Bahamas                        1\n",
       "Barbados                       1\n",
       "Belize                         1\n",
       "Mali                           1\n",
       "Malawi                         1\n",
       "Madagascar                     1\n",
       "Djibouti                       1\n",
       "Benin                          1\n",
       "Botswana                       1\n",
       "Burkina Faso                   1\n",
       "Burundi                        1\n",
       "Cameroon                       1\n",
       "Cabo Verde                     1\n",
       "Central Africa Republic        1\n",
       "Chad                           1\n",
       "Comoros                        1\n",
       "Congo                          1\n",
       "Côte d'Ivoire                  1\n",
       "DRC                            1\n",
       "Egypt                          1\n",
       "Libya                          1\n",
       "Equatorial Guinea              1\n",
       "Eritrea                        1\n",
       "Eswatini                       1\n",
       "Ethiopia                       1\n",
       "Gabon                          1\n",
       "Gambia                         1\n",
       "Ghana                          1\n",
       "Guinea                         1\n",
       "Guinea-Bissau                  1\n",
       "Kenya                          1\n",
       "Lesotho                        1\n",
       "Liberia                        1\n",
       "Bolivia                        1\n",
       "Brazil                         1\n",
       "Chile                          1\n",
       "Kuwait                         1\n",
       "Brunei Darussalam              1\n",
       "Cambodia                       1\n",
       "China                          1\n",
       "East Timor                     1\n",
       "India                          1\n",
       "Indonesia1                     1\n",
       "Iraq                           1\n",
       "Iran                           1\n",
       "Israel                         1\n",
       "Japan                          1\n",
       "Jordan                         1\n",
       "Kazakhstan                     1\n",
       "Kyrgyzstan                     1\n",
       "Bangladesh                     1\n",
       "Laos                           1\n",
       "Lebanon                        1\n",
       "Malaysia                       1\n",
       "Maldives                       1\n",
       "Mongolia                       1\n",
       "Myanmar                        1\n",
       "Nepal                          1\n",
       "North Korea                    1\n",
       "Oman                           1\n",
       "Pakistan                       1\n",
       "Philippines                    1\n",
       "Qatar                          1\n",
       "Bhutan                         1\n",
       "Bahrain                        1\n",
       "Colombia                       1\n",
       "Mexico                         1\n",
       "Costa Rica                     1\n",
       "Cuba                           1\n",
       "Dominica                       1\n",
       "Dominican Republic             1\n",
       "Ecuador                        1\n",
       "El Salvador                    1\n",
       "Grenada                        1\n",
       "Guatemala                      1\n",
       "Guyana                         1\n",
       "Haiti                          1\n",
       "Honduras                       1\n",
       "Jamaica                        1\n",
       "Nicaragua                      1\n",
       "Afghanistan                    1\n",
       "Panama                         1\n",
       "Paraguay                       1\n",
       "Peru                           1\n",
       "Saint Kitts & Nevis            1\n",
       "Saint Lucia                    1\n",
       "Saint Vinc. & the Gren.        1\n",
       "Suriname                       1\n",
       "Trinidad and Tobago            1\n",
       "Uruguay                        1\n",
       "Venezuela                      1\n",
       "Canada                         1\n",
       "United States                  1\n",
       "Wallis and Futuna (FR)         1\n",
       "Name: count, dtype: int64"
      ]
     },
     "execution_count": 13,
     "metadata": {},
     "output_type": "execute_result"
    }
   ],
   "source": [
    "df[\"COUNTRY\"].value_counts()"
   ]
  },
  {
   "cell_type": "markdown",
   "metadata": {},
   "source": [
    "### Gender Development Index (GDI) 2020"
   ]
  },
  {
   "cell_type": "markdown",
   "metadata": {},
   "source": [
    "https://ourworldindata.org/human-development-index\n",
    "\n",
    "\n",
    "The UNDP also publishes the Gender Development Index (GDI).9\n",
    "\n",
    "It characterizes human development like the HDI and the IHDI, but it acknowledges that life expectancy, expected and average access to education, and income differ between men and women.\n",
    "\n",
    "It uses gender-specific data across three dimensions (such as incomes for men and women) to calculate HDIs for men and women separately.10\n",
    "\n",
    "The GDI is the ratio of the female HDI to the male HDI. Values below 1 indicate higher human development for men than women, while values above 1 indicate the opposite. Values closer to 1 therefore indicate higher gender equality.\n",
    "\n",
    "It covers almost all countries since 1990.\n",
    "\n",
    "In addition to the index itself, it is also used to classify countries into groups depending on how gender-equal they are."
   ]
  },
  {
   "cell_type": "code",
   "execution_count": 14,
   "metadata": {},
   "outputs": [],
   "source": [
    "df_gdi = pd.read_csv(\"./GDI/gender-development-index.csv\")"
   ]
  },
  {
   "cell_type": "code",
   "execution_count": 15,
   "metadata": {},
   "outputs": [
    {
     "data": {
      "text/plain": [
       "(180, 5)"
      ]
     },
     "execution_count": 15,
     "metadata": {},
     "output_type": "execute_result"
    }
   ],
   "source": [
    "df_gdi.shape"
   ]
  },
  {
   "cell_type": "markdown",
   "metadata": {},
   "source": [
    "Values below 1 indicate higher human development for men than women"
   ]
  },
  {
   "cell_type": "code",
   "execution_count": 16,
   "metadata": {},
   "outputs": [
    {
     "data": {
      "text/html": [
       "<div>\n",
       "<style scoped>\n",
       "    .dataframe tbody tr th:only-of-type {\n",
       "        vertical-align: middle;\n",
       "    }\n",
       "\n",
       "    .dataframe tbody tr th {\n",
       "        vertical-align: top;\n",
       "    }\n",
       "\n",
       "    .dataframe thead th {\n",
       "        text-align: right;\n",
       "    }\n",
       "</style>\n",
       "<table border=\"1\" class=\"dataframe\">\n",
       "  <thead>\n",
       "    <tr style=\"text-align: right;\">\n",
       "      <th></th>\n",
       "      <th>Entity</th>\n",
       "      <th>Code</th>\n",
       "      <th>Year</th>\n",
       "      <th>Gender Development Index</th>\n",
       "      <th>time</th>\n",
       "    </tr>\n",
       "  </thead>\n",
       "  <tbody>\n",
       "    <tr>\n",
       "      <th>0</th>\n",
       "      <td>Afghanistan</td>\n",
       "      <td>AFG</td>\n",
       "      <td>2020</td>\n",
       "      <td>0.695</td>\n",
       "      <td>2020</td>\n",
       "    </tr>\n",
       "    <tr>\n",
       "      <th>1</th>\n",
       "      <td>Albania</td>\n",
       "      <td>ALB</td>\n",
       "      <td>2020</td>\n",
       "      <td>0.978</td>\n",
       "      <td>2020</td>\n",
       "    </tr>\n",
       "    <tr>\n",
       "      <th>2</th>\n",
       "      <td>Algeria</td>\n",
       "      <td>DZA</td>\n",
       "      <td>2020</td>\n",
       "      <td>0.879</td>\n",
       "      <td>2020</td>\n",
       "    </tr>\n",
       "    <tr>\n",
       "      <th>3</th>\n",
       "      <td>Angola</td>\n",
       "      <td>AGO</td>\n",
       "      <td>2020</td>\n",
       "      <td>0.906</td>\n",
       "      <td>2020</td>\n",
       "    </tr>\n",
       "    <tr>\n",
       "      <th>4</th>\n",
       "      <td>Argentina</td>\n",
       "      <td>ARG</td>\n",
       "      <td>2020</td>\n",
       "      <td>0.999</td>\n",
       "      <td>2020</td>\n",
       "    </tr>\n",
       "  </tbody>\n",
       "</table>\n",
       "</div>"
      ],
      "text/plain": [
       "        Entity Code  Year  Gender Development Index  time\n",
       "0  Afghanistan  AFG  2020                     0.695  2020\n",
       "1      Albania  ALB  2020                     0.978  2020\n",
       "2      Algeria  DZA  2020                     0.879  2020\n",
       "3       Angola  AGO  2020                     0.906  2020\n",
       "4    Argentina  ARG  2020                     0.999  2020"
      ]
     },
     "execution_count": 16,
     "metadata": {},
     "output_type": "execute_result"
    }
   ],
   "source": [
    "df_gdi.head()"
   ]
  },
  {
   "cell_type": "markdown",
   "metadata": {},
   "source": [
    "### Share of people living in urban areas"
   ]
  },
  {
   "cell_type": "markdown",
   "metadata": {},
   "source": [
    "https://ourworldindata.org/urbanization\n",
    "\n",
    "\n",
    "How does the share of people living in urban areas vary between countries?\n",
    "\n",
    "In the chart shown below, we see the share of the population that is urbanized across the world.\n",
    "\n",
    "Across most high-income countries – across Western Europe, the Americas, Australia, Japan, and the Middle East – more than 80% of the population lives in urban areas. Across most upper-middle-income countries – in Eastern Europe, East Asia, North and Southern Africa, and South America – between 50% to 80% of people do. In many low to lower-middle-income countries, the majority still live in rural areas.\n",
    "\n",
    "But this is changing quickly. You can see how urbanization rates are changing with time using the \"Edit countries and regions\" toggle on the interactive chart. For many countries, you see a rapid migration of populations into towns and cities."
   ]
  },
  {
   "cell_type": "code",
   "execution_count": 17,
   "metadata": {},
   "outputs": [],
   "source": [
    "df_urban = pd.read_csv(\"./Urban/share-of-population-urban.csv\")"
   ]
  },
  {
   "cell_type": "code",
   "execution_count": 18,
   "metadata": {},
   "outputs": [
    {
     "data": {
      "text/plain": [
       "(14427, 4)"
      ]
     },
     "execution_count": 18,
     "metadata": {},
     "output_type": "execute_result"
    }
   ],
   "source": [
    "df_urban.shape"
   ]
  },
  {
   "cell_type": "code",
   "execution_count": 20,
   "metadata": {},
   "outputs": [],
   "source": [
    "df_urban_2020 = df_urban[df_urban['Year'] == 2020]"
   ]
  },
  {
   "cell_type": "code",
   "execution_count": 21,
   "metadata": {},
   "outputs": [
    {
     "data": {
      "text/plain": [
       "(229, 4)"
      ]
     },
     "execution_count": 21,
     "metadata": {},
     "output_type": "execute_result"
    }
   ],
   "source": [
    "df_urban_2020.shape"
   ]
  },
  {
   "cell_type": "code",
   "execution_count": 22,
   "metadata": {},
   "outputs": [
    {
     "data": {
      "text/html": [
       "<div>\n",
       "<style scoped>\n",
       "    .dataframe tbody tr th:only-of-type {\n",
       "        vertical-align: middle;\n",
       "    }\n",
       "\n",
       "    .dataframe tbody tr th {\n",
       "        vertical-align: top;\n",
       "    }\n",
       "\n",
       "    .dataframe thead th {\n",
       "        text-align: right;\n",
       "    }\n",
       "</style>\n",
       "<table border=\"1\" class=\"dataframe\">\n",
       "  <thead>\n",
       "    <tr style=\"text-align: right;\">\n",
       "      <th></th>\n",
       "      <th>Entity</th>\n",
       "      <th>Code</th>\n",
       "      <th>Year</th>\n",
       "      <th>Urban population (% of total population)</th>\n",
       "    </tr>\n",
       "  </thead>\n",
       "  <tbody>\n",
       "    <tr>\n",
       "      <th>60</th>\n",
       "      <td>Afghanistan</td>\n",
       "      <td>AFG</td>\n",
       "      <td>2020</td>\n",
       "      <td>26.026</td>\n",
       "    </tr>\n",
       "    <tr>\n",
       "      <th>123</th>\n",
       "      <td>Albania</td>\n",
       "      <td>ALB</td>\n",
       "      <td>2020</td>\n",
       "      <td>62.112</td>\n",
       "    </tr>\n",
       "    <tr>\n",
       "      <th>186</th>\n",
       "      <td>Algeria</td>\n",
       "      <td>DZA</td>\n",
       "      <td>2020</td>\n",
       "      <td>73.733</td>\n",
       "    </tr>\n",
       "    <tr>\n",
       "      <th>249</th>\n",
       "      <td>American Samoa</td>\n",
       "      <td>ASM</td>\n",
       "      <td>2020</td>\n",
       "      <td>87.153</td>\n",
       "    </tr>\n",
       "    <tr>\n",
       "      <th>312</th>\n",
       "      <td>Andorra</td>\n",
       "      <td>AND</td>\n",
       "      <td>2020</td>\n",
       "      <td>87.916</td>\n",
       "    </tr>\n",
       "  </tbody>\n",
       "</table>\n",
       "</div>"
      ],
      "text/plain": [
       "             Entity Code  Year  Urban population (% of total population)\n",
       "60      Afghanistan  AFG  2020                                    26.026\n",
       "123         Albania  ALB  2020                                    62.112\n",
       "186         Algeria  DZA  2020                                    73.733\n",
       "249  American Samoa  ASM  2020                                    87.153\n",
       "312         Andorra  AND  2020                                    87.916"
      ]
     },
     "execution_count": 22,
     "metadata": {},
     "output_type": "execute_result"
    }
   ],
   "source": [
    "df_urban_2020.head()"
   ]
  },
  {
   "cell_type": "markdown",
   "metadata": {},
   "source": [
    "### Merging"
   ]
  },
  {
   "cell_type": "code",
   "execution_count": 23,
   "metadata": {},
   "outputs": [],
   "source": [
    "urban_gdi = pd.merge(df_urban_2020, df_gdi, on=['Entity', 'Code', 'Year'], how='inner')\n",
    "\n",
    "final_df = pd.merge(urban_gdi, df, left_on='Entity', right_on='COUNTRY', how='inner')"
   ]
  },
  {
   "cell_type": "code",
   "execution_count": 24,
   "metadata": {},
   "outputs": [
    {
     "data": {
      "text/plain": [
       "(171, 20)"
      ]
     },
     "execution_count": 24,
     "metadata": {},
     "output_type": "execute_result"
    }
   ],
   "source": [
    "final_df.shape"
   ]
  },
  {
   "cell_type": "code",
   "execution_count": 26,
   "metadata": {},
   "outputs": [],
   "source": [
    "final_df = final_df.drop(columns=['Entity', 'Year', 'time', 'Code'])"
   ]
  },
  {
   "cell_type": "code",
   "execution_count": 27,
   "metadata": {},
   "outputs": [
    {
     "data": {
      "text/html": [
       "<div>\n",
       "<style scoped>\n",
       "    .dataframe tbody tr th:only-of-type {\n",
       "        vertical-align: middle;\n",
       "    }\n",
       "\n",
       "    .dataframe tbody tr th {\n",
       "        vertical-align: top;\n",
       "    }\n",
       "\n",
       "    .dataframe thead th {\n",
       "        text-align: right;\n",
       "    }\n",
       "</style>\n",
       "<table border=\"1\" class=\"dataframe\">\n",
       "  <thead>\n",
       "    <tr style=\"text-align: right;\">\n",
       "      <th></th>\n",
       "      <th>Urban population (% of total population)</th>\n",
       "      <th>Gender Development Index</th>\n",
       "      <th>COUNTRY</th>\n",
       "      <th>CSSSA LEGAL?</th>\n",
       "      <th>DATE OF DECRIM</th>\n",
       "      <th>MAX PENALTY</th>\n",
       "      <th>CONST.</th>\n",
       "      <th>BROAD PROT.</th>\n",
       "      <th>EMPLOY.</th>\n",
       "      <th>HATE CRIME</th>\n",
       "      <th>INCITEMENT</th>\n",
       "      <th>BAN CONV. THERAPIES</th>\n",
       "      <th>SAME SEX MARRIAGE</th>\n",
       "      <th>CIVIL UNIONS</th>\n",
       "      <th>JOINT ADOPTION</th>\n",
       "      <th>SECOND PARENT ADOPTION</th>\n",
       "    </tr>\n",
       "  </thead>\n",
       "  <tbody>\n",
       "    <tr>\n",
       "      <th>0</th>\n",
       "      <td>26.026</td>\n",
       "      <td>0.695</td>\n",
       "      <td>Afghanistan</td>\n",
       "      <td>NO</td>\n",
       "      <td>-</td>\n",
       "      <td>DEATH (P)</td>\n",
       "      <td>NO</td>\n",
       "      <td>NO</td>\n",
       "      <td>NO</td>\n",
       "      <td>NO</td>\n",
       "      <td>NO</td>\n",
       "      <td>NO</td>\n",
       "      <td>NO</td>\n",
       "      <td>NO</td>\n",
       "      <td>NO</td>\n",
       "      <td>NO</td>\n",
       "    </tr>\n",
       "    <tr>\n",
       "      <th>1</th>\n",
       "      <td>62.112</td>\n",
       "      <td>0.978</td>\n",
       "      <td>Albania</td>\n",
       "      <td>YES</td>\n",
       "      <td>1995</td>\n",
       "      <td>-</td>\n",
       "      <td>NO</td>\n",
       "      <td>YES</td>\n",
       "      <td>YES</td>\n",
       "      <td>YES</td>\n",
       "      <td>YES</td>\n",
       "      <td>NO</td>\n",
       "      <td>NO</td>\n",
       "      <td>NO</td>\n",
       "      <td>NO</td>\n",
       "      <td>NO</td>\n",
       "    </tr>\n",
       "    <tr>\n",
       "      <th>2</th>\n",
       "      <td>73.733</td>\n",
       "      <td>0.879</td>\n",
       "      <td>Algeria</td>\n",
       "      <td>NO</td>\n",
       "      <td>-</td>\n",
       "      <td>2</td>\n",
       "      <td>NO</td>\n",
       "      <td>NO</td>\n",
       "      <td>NO</td>\n",
       "      <td>NO</td>\n",
       "      <td>NO</td>\n",
       "      <td>NO</td>\n",
       "      <td>NO</td>\n",
       "      <td>NO</td>\n",
       "      <td>NO</td>\n",
       "      <td>NO</td>\n",
       "    </tr>\n",
       "    <tr>\n",
       "      <th>3</th>\n",
       "      <td>66.825</td>\n",
       "      <td>0.906</td>\n",
       "      <td>Angola</td>\n",
       "      <td>YES</td>\n",
       "      <td>2021</td>\n",
       "      <td>-</td>\n",
       "      <td>NO</td>\n",
       "      <td>YES</td>\n",
       "      <td>YES</td>\n",
       "      <td>YES</td>\n",
       "      <td>YES</td>\n",
       "      <td>NO</td>\n",
       "      <td>NO</td>\n",
       "      <td>NO</td>\n",
       "      <td>NO</td>\n",
       "      <td>NO</td>\n",
       "    </tr>\n",
       "    <tr>\n",
       "      <th>4</th>\n",
       "      <td>92.111</td>\n",
       "      <td>0.999</td>\n",
       "      <td>Argentina</td>\n",
       "      <td>YES</td>\n",
       "      <td>1903</td>\n",
       "      <td>-</td>\n",
       "      <td>NO</td>\n",
       "      <td>LIMITED</td>\n",
       "      <td>LIMITED</td>\n",
       "      <td>YES</td>\n",
       "      <td>NO</td>\n",
       "      <td>LIMITED</td>\n",
       "      <td>YES</td>\n",
       "      <td>YES</td>\n",
       "      <td>YES</td>\n",
       "      <td>YES</td>\n",
       "    </tr>\n",
       "  </tbody>\n",
       "</table>\n",
       "</div>"
      ],
      "text/plain": [
       "   Urban population (% of total population)  Gender Development Index  \\\n",
       "0                                    26.026                     0.695   \n",
       "1                                    62.112                     0.978   \n",
       "2                                    73.733                     0.879   \n",
       "3                                    66.825                     0.906   \n",
       "4                                    92.111                     0.999   \n",
       "\n",
       "       COUNTRY CSSSA LEGAL? DATE OF DECRIM MAX PENALTY CONST. BROAD PROT.  \\\n",
       "0  Afghanistan           NO              -   DEATH (P)     NO          NO   \n",
       "1      Albania          YES           1995           -     NO         YES   \n",
       "2      Algeria           NO              -           2     NO          NO   \n",
       "3       Angola          YES           2021           -     NO         YES   \n",
       "4    Argentina          YES           1903           -     NO     LIMITED   \n",
       "\n",
       "   EMPLOY. HATE CRIME INCITEMENT BAN CONV. THERAPIES SAME SEX MARRIAGE  \\\n",
       "0       NO         NO         NO                  NO                NO   \n",
       "1      YES        YES        YES                  NO                NO   \n",
       "2       NO         NO         NO                  NO                NO   \n",
       "3      YES        YES        YES                  NO                NO   \n",
       "4  LIMITED        YES         NO             LIMITED               YES   \n",
       "\n",
       "  CIVIL UNIONS JOINT ADOPTION SECOND PARENT ADOPTION  \n",
       "0           NO             NO                     NO  \n",
       "1           NO             NO                     NO  \n",
       "2           NO             NO                     NO  \n",
       "3           NO             NO                     NO  \n",
       "4          YES            YES                    YES  "
      ]
     },
     "execution_count": 27,
     "metadata": {},
     "output_type": "execute_result"
    }
   ],
   "source": [
    "final_df.head()"
   ]
  },
  {
   "cell_type": "markdown",
   "metadata": {},
   "source": [
    "### converting to binary"
   ]
  },
  {
   "cell_type": "code",
   "execution_count": 29,
   "metadata": {},
   "outputs": [
    {
     "name": "stderr",
     "output_type": "stream",
     "text": [
      "/var/folders/pp/5g1jt_cx32g8hd0lgc29gzxh0000gn/T/ipykernel_88258/2150130395.py:7: FutureWarning: Downcasting behavior in `replace` is deprecated and will be removed in a future version. To retain the old behavior, explicitly call `result.infer_objects(copy=False)`. To opt-in to the future behavior, set `pd.set_option('future.no_silent_downcasting', True)`\n",
      "  final_df[columns_to_convert] = final_df[columns_to_convert].replace({'YES': 1, 'NO': 0})\n"
     ]
    }
   ],
   "source": [
    "columns_to_convert = [\n",
    "    'CSSSA LEGAL?', 'CONST.', 'BROAD PROT.', 'EMPLOY.',\n",
    "    'HATE CRIME', 'INCITEMENT', 'BAN CONV. THERAPIES',\n",
    "    'SAME SEX MARRIAGE', 'CIVIL UNIONS', 'JOINT ADOPTION', 'SECOND PARENT ADOPTION'\n",
    "]\n",
    "\n",
    "final_df[columns_to_convert] = final_df[columns_to_convert].replace({'YES': 1, 'NO': 0})\n"
   ]
  },
  {
   "cell_type": "code",
   "execution_count": 30,
   "metadata": {},
   "outputs": [
    {
     "data": {
      "text/html": [
       "<div>\n",
       "<style scoped>\n",
       "    .dataframe tbody tr th:only-of-type {\n",
       "        vertical-align: middle;\n",
       "    }\n",
       "\n",
       "    .dataframe tbody tr th {\n",
       "        vertical-align: top;\n",
       "    }\n",
       "\n",
       "    .dataframe thead th {\n",
       "        text-align: right;\n",
       "    }\n",
       "</style>\n",
       "<table border=\"1\" class=\"dataframe\">\n",
       "  <thead>\n",
       "    <tr style=\"text-align: right;\">\n",
       "      <th></th>\n",
       "      <th>Urban population (% of total population)</th>\n",
       "      <th>Gender Development Index</th>\n",
       "      <th>COUNTRY</th>\n",
       "      <th>CSSSA LEGAL?</th>\n",
       "      <th>DATE OF DECRIM</th>\n",
       "      <th>MAX PENALTY</th>\n",
       "      <th>CONST.</th>\n",
       "      <th>BROAD PROT.</th>\n",
       "      <th>EMPLOY.</th>\n",
       "      <th>HATE CRIME</th>\n",
       "      <th>INCITEMENT</th>\n",
       "      <th>BAN CONV. THERAPIES</th>\n",
       "      <th>SAME SEX MARRIAGE</th>\n",
       "      <th>CIVIL UNIONS</th>\n",
       "      <th>JOINT ADOPTION</th>\n",
       "      <th>SECOND PARENT ADOPTION</th>\n",
       "    </tr>\n",
       "  </thead>\n",
       "  <tbody>\n",
       "    <tr>\n",
       "      <th>0</th>\n",
       "      <td>26.026</td>\n",
       "      <td>0.695</td>\n",
       "      <td>Afghanistan</td>\n",
       "      <td>0</td>\n",
       "      <td>-</td>\n",
       "      <td>DEATH (P)</td>\n",
       "      <td>0</td>\n",
       "      <td>0</td>\n",
       "      <td>0</td>\n",
       "      <td>0</td>\n",
       "      <td>0</td>\n",
       "      <td>0</td>\n",
       "      <td>0</td>\n",
       "      <td>0</td>\n",
       "      <td>0</td>\n",
       "      <td>0</td>\n",
       "    </tr>\n",
       "    <tr>\n",
       "      <th>1</th>\n",
       "      <td>62.112</td>\n",
       "      <td>0.978</td>\n",
       "      <td>Albania</td>\n",
       "      <td>1</td>\n",
       "      <td>1995</td>\n",
       "      <td>-</td>\n",
       "      <td>0</td>\n",
       "      <td>1</td>\n",
       "      <td>1</td>\n",
       "      <td>1</td>\n",
       "      <td>1</td>\n",
       "      <td>0</td>\n",
       "      <td>0</td>\n",
       "      <td>0</td>\n",
       "      <td>0</td>\n",
       "      <td>0</td>\n",
       "    </tr>\n",
       "    <tr>\n",
       "      <th>2</th>\n",
       "      <td>73.733</td>\n",
       "      <td>0.879</td>\n",
       "      <td>Algeria</td>\n",
       "      <td>0</td>\n",
       "      <td>-</td>\n",
       "      <td>2</td>\n",
       "      <td>0</td>\n",
       "      <td>0</td>\n",
       "      <td>0</td>\n",
       "      <td>0</td>\n",
       "      <td>0</td>\n",
       "      <td>0</td>\n",
       "      <td>0</td>\n",
       "      <td>0</td>\n",
       "      <td>0</td>\n",
       "      <td>0</td>\n",
       "    </tr>\n",
       "    <tr>\n",
       "      <th>3</th>\n",
       "      <td>66.825</td>\n",
       "      <td>0.906</td>\n",
       "      <td>Angola</td>\n",
       "      <td>1</td>\n",
       "      <td>2021</td>\n",
       "      <td>-</td>\n",
       "      <td>0</td>\n",
       "      <td>1</td>\n",
       "      <td>1</td>\n",
       "      <td>1</td>\n",
       "      <td>1</td>\n",
       "      <td>0</td>\n",
       "      <td>0</td>\n",
       "      <td>0</td>\n",
       "      <td>0</td>\n",
       "      <td>0</td>\n",
       "    </tr>\n",
       "    <tr>\n",
       "      <th>4</th>\n",
       "      <td>92.111</td>\n",
       "      <td>0.999</td>\n",
       "      <td>Argentina</td>\n",
       "      <td>1</td>\n",
       "      <td>1903</td>\n",
       "      <td>-</td>\n",
       "      <td>0</td>\n",
       "      <td>LIMITED</td>\n",
       "      <td>LIMITED</td>\n",
       "      <td>1</td>\n",
       "      <td>0</td>\n",
       "      <td>LIMITED</td>\n",
       "      <td>1</td>\n",
       "      <td>1</td>\n",
       "      <td>1</td>\n",
       "      <td>1</td>\n",
       "    </tr>\n",
       "  </tbody>\n",
       "</table>\n",
       "</div>"
      ],
      "text/plain": [
       "   Urban population (% of total population)  Gender Development Index  \\\n",
       "0                                    26.026                     0.695   \n",
       "1                                    62.112                     0.978   \n",
       "2                                    73.733                     0.879   \n",
       "3                                    66.825                     0.906   \n",
       "4                                    92.111                     0.999   \n",
       "\n",
       "       COUNTRY CSSSA LEGAL? DATE OF DECRIM MAX PENALTY  CONST. BROAD PROT.  \\\n",
       "0  Afghanistan            0              -   DEATH (P)       0           0   \n",
       "1      Albania            1           1995           -       0           1   \n",
       "2      Algeria            0              -           2       0           0   \n",
       "3       Angola            1           2021           -       0           1   \n",
       "4    Argentina            1           1903           -       0     LIMITED   \n",
       "\n",
       "   EMPLOY. HATE CRIME INCITEMENT BAN CONV. THERAPIES  SAME SEX MARRIAGE  \\\n",
       "0        0          0          0                   0                  0   \n",
       "1        1          1          1                   0                  0   \n",
       "2        0          0          0                   0                  0   \n",
       "3        1          1          1                   0                  0   \n",
       "4  LIMITED          1          0             LIMITED                  1   \n",
       "\n",
       "  CIVIL UNIONS JOINT ADOPTION SECOND PARENT ADOPTION  \n",
       "0            0              0                      0  \n",
       "1            0              0                      0  \n",
       "2            0              0                      0  \n",
       "3            0              0                      0  \n",
       "4            1              1                      1  "
      ]
     },
     "execution_count": 30,
     "metadata": {},
     "output_type": "execute_result"
    }
   ],
   "source": [
    "final_df.head()"
   ]
  },
  {
   "cell_type": "code",
   "execution_count": 32,
   "metadata": {},
   "outputs": [],
   "source": [
    "columns_with_limited = ['BROAD PROT.', 'EMPLOY.', 'HATE CRIME', \n",
    "                        'INCITEMENT', 'BAN CONV. THERAPIES', \n",
    "                        'CIVIL UNIONS', 'JOINT ADOPTION', \n",
    "                        'SECOND PARENT ADOPTION']"
   ]
  },
  {
   "cell_type": "code",
   "execution_count": 33,
   "metadata": {},
   "outputs": [
    {
     "name": "stderr",
     "output_type": "stream",
     "text": [
      "/var/folders/pp/5g1jt_cx32g8hd0lgc29gzxh0000gn/T/ipykernel_88258/3669822172.py:1: FutureWarning: Downcasting behavior in `replace` is deprecated and will be removed in a future version. To retain the old behavior, explicitly call `result.infer_objects(copy=False)`. To opt-in to the future behavior, set `pd.set_option('future.no_silent_downcasting', True)`\n",
      "  final_df[columns_with_limited] = final_df[columns_with_limited].replace({'LIMITED': 0.5})\n"
     ]
    }
   ],
   "source": [
    "final_df[columns_with_limited] = final_df[columns_with_limited].replace({'LIMITED': 0.5})\n"
   ]
  },
  {
   "cell_type": "code",
   "execution_count": 35,
   "metadata": {},
   "outputs": [],
   "source": [
    "final_df = final_df.drop(columns=['MAX PENALTY'])"
   ]
  },
  {
   "cell_type": "code",
   "execution_count": 37,
   "metadata": {},
   "outputs": [],
   "source": [
    "final_df = final_df.drop(columns=['DATE OF DECRIM'])"
   ]
  },
  {
   "cell_type": "code",
   "execution_count": 39,
   "metadata": {},
   "outputs": [
    {
     "name": "stderr",
     "output_type": "stream",
     "text": [
      "/var/folders/pp/5g1jt_cx32g8hd0lgc29gzxh0000gn/T/ipykernel_88258/198232708.py:1: FutureWarning: Downcasting behavior in `replace` is deprecated and will be removed in a future version. To retain the old behavior, explicitly call `result.infer_objects(copy=False)`. To opt-in to the future behavior, set `pd.set_option('future.no_silent_downcasting', True)`\n",
      "  final_df['CSSSA LEGAL?'] = final_df['CSSSA LEGAL?'].replace({'DE FACTO': 1})\n"
     ]
    }
   ],
   "source": [
    "final_df['CSSSA LEGAL?'] = final_df['CSSSA LEGAL?'].replace({'DE FACTO': 1})"
   ]
  },
  {
   "cell_type": "code",
   "execution_count": 41,
   "metadata": {},
   "outputs": [
    {
     "data": {
      "text/html": [
       "<div>\n",
       "<style scoped>\n",
       "    .dataframe tbody tr th:only-of-type {\n",
       "        vertical-align: middle;\n",
       "    }\n",
       "\n",
       "    .dataframe tbody tr th {\n",
       "        vertical-align: top;\n",
       "    }\n",
       "\n",
       "    .dataframe thead th {\n",
       "        text-align: right;\n",
       "    }\n",
       "</style>\n",
       "<table border=\"1\" class=\"dataframe\">\n",
       "  <thead>\n",
       "    <tr style=\"text-align: right;\">\n",
       "      <th></th>\n",
       "      <th>Urban population (% of total population)</th>\n",
       "      <th>Gender Development Index</th>\n",
       "      <th>COUNTRY</th>\n",
       "      <th>CSSSA LEGAL?</th>\n",
       "      <th>CONST.</th>\n",
       "      <th>BROAD PROT.</th>\n",
       "      <th>EMPLOY.</th>\n",
       "      <th>HATE CRIME</th>\n",
       "      <th>INCITEMENT</th>\n",
       "      <th>BAN CONV. THERAPIES</th>\n",
       "      <th>SAME SEX MARRIAGE</th>\n",
       "      <th>CIVIL UNIONS</th>\n",
       "      <th>JOINT ADOPTION</th>\n",
       "      <th>SECOND PARENT ADOPTION</th>\n",
       "    </tr>\n",
       "  </thead>\n",
       "  <tbody>\n",
       "    <tr>\n",
       "      <th>0</th>\n",
       "      <td>26.026</td>\n",
       "      <td>0.695</td>\n",
       "      <td>Afghanistan</td>\n",
       "      <td>0</td>\n",
       "      <td>0</td>\n",
       "      <td>0.0</td>\n",
       "      <td>0.0</td>\n",
       "      <td>0.0</td>\n",
       "      <td>0.0</td>\n",
       "      <td>0.0</td>\n",
       "      <td>0</td>\n",
       "      <td>0.0</td>\n",
       "      <td>0.0</td>\n",
       "      <td>0.0</td>\n",
       "    </tr>\n",
       "    <tr>\n",
       "      <th>1</th>\n",
       "      <td>62.112</td>\n",
       "      <td>0.978</td>\n",
       "      <td>Albania</td>\n",
       "      <td>1</td>\n",
       "      <td>0</td>\n",
       "      <td>1.0</td>\n",
       "      <td>1.0</td>\n",
       "      <td>1.0</td>\n",
       "      <td>1.0</td>\n",
       "      <td>0.0</td>\n",
       "      <td>0</td>\n",
       "      <td>0.0</td>\n",
       "      <td>0.0</td>\n",
       "      <td>0.0</td>\n",
       "    </tr>\n",
       "    <tr>\n",
       "      <th>2</th>\n",
       "      <td>73.733</td>\n",
       "      <td>0.879</td>\n",
       "      <td>Algeria</td>\n",
       "      <td>0</td>\n",
       "      <td>0</td>\n",
       "      <td>0.0</td>\n",
       "      <td>0.0</td>\n",
       "      <td>0.0</td>\n",
       "      <td>0.0</td>\n",
       "      <td>0.0</td>\n",
       "      <td>0</td>\n",
       "      <td>0.0</td>\n",
       "      <td>0.0</td>\n",
       "      <td>0.0</td>\n",
       "    </tr>\n",
       "    <tr>\n",
       "      <th>3</th>\n",
       "      <td>66.825</td>\n",
       "      <td>0.906</td>\n",
       "      <td>Angola</td>\n",
       "      <td>1</td>\n",
       "      <td>0</td>\n",
       "      <td>1.0</td>\n",
       "      <td>1.0</td>\n",
       "      <td>1.0</td>\n",
       "      <td>1.0</td>\n",
       "      <td>0.0</td>\n",
       "      <td>0</td>\n",
       "      <td>0.0</td>\n",
       "      <td>0.0</td>\n",
       "      <td>0.0</td>\n",
       "    </tr>\n",
       "    <tr>\n",
       "      <th>4</th>\n",
       "      <td>92.111</td>\n",
       "      <td>0.999</td>\n",
       "      <td>Argentina</td>\n",
       "      <td>1</td>\n",
       "      <td>0</td>\n",
       "      <td>0.5</td>\n",
       "      <td>0.5</td>\n",
       "      <td>1.0</td>\n",
       "      <td>0.0</td>\n",
       "      <td>0.5</td>\n",
       "      <td>1</td>\n",
       "      <td>1.0</td>\n",
       "      <td>1.0</td>\n",
       "      <td>1.0</td>\n",
       "    </tr>\n",
       "  </tbody>\n",
       "</table>\n",
       "</div>"
      ],
      "text/plain": [
       "   Urban population (% of total population)  Gender Development Index  \\\n",
       "0                                    26.026                     0.695   \n",
       "1                                    62.112                     0.978   \n",
       "2                                    73.733                     0.879   \n",
       "3                                    66.825                     0.906   \n",
       "4                                    92.111                     0.999   \n",
       "\n",
       "       COUNTRY  CSSSA LEGAL?  CONST.  BROAD PROT.  EMPLOY.  HATE CRIME  \\\n",
       "0  Afghanistan             0       0          0.0      0.0         0.0   \n",
       "1      Albania             1       0          1.0      1.0         1.0   \n",
       "2      Algeria             0       0          0.0      0.0         0.0   \n",
       "3       Angola             1       0          1.0      1.0         1.0   \n",
       "4    Argentina             1       0          0.5      0.5         1.0   \n",
       "\n",
       "   INCITEMENT  BAN CONV. THERAPIES  SAME SEX MARRIAGE  CIVIL UNIONS  \\\n",
       "0         0.0                  0.0                  0           0.0   \n",
       "1         1.0                  0.0                  0           0.0   \n",
       "2         0.0                  0.0                  0           0.0   \n",
       "3         1.0                  0.0                  0           0.0   \n",
       "4         0.0                  0.5                  1           1.0   \n",
       "\n",
       "   JOINT ADOPTION  SECOND PARENT ADOPTION  \n",
       "0             0.0                     0.0  \n",
       "1             0.0                     0.0  \n",
       "2             0.0                     0.0  \n",
       "3             0.0                     0.0  \n",
       "4             1.0                     1.0  "
      ]
     },
     "execution_count": 41,
     "metadata": {},
     "output_type": "execute_result"
    }
   ],
   "source": [
    "final_df.head()"
   ]
  },
  {
   "cell_type": "markdown",
   "metadata": {},
   "source": [
    "# PLOTS"
   ]
  },
  {
   "cell_type": "code",
   "execution_count": 47,
   "metadata": {},
   "outputs": [
    {
     "data": {
      "image/png": "[encoded data removed]",
      "text/plain": [
       "<Figure size 1000x800 with 2 Axes>"
      ]
     },
     "metadata": {},
     "output_type": "display_data"
    }
   ],
   "source": [
    "numeric_columns = final_df.select_dtypes(include=['float64', 'int64'])\n",
    "plt.figure(figsize=(10, 8))\n",
    "sns.heatmap(numeric_columns.corr(), annot=True, cmap='coolwarm')\n",
    "plt.title('Correlation Heatmap with Employment Protection')\n",
    "plt.show()\n"
   ]
  },
  {
   "cell_type": "code",
   "execution_count": 51,
   "metadata": {},
   "outputs": [
    {
     "data": {
      "image/png": "[encoded data removed]",
      "text/plain": [
       "<Figure size 1000x600 with 1 Axes>"
      ]
     },
     "metadata": {},
     "output_type": "display_data"
    }
   ],
   "source": [
    "plt.figure(figsize=(10, 6))\n",
    "sns.scatterplot(\n",
    "    data=final_df,\n",
    "    x='Urban population (% of total population)',\n",
    "    y='Gender Development Index',\n",
    "    hue='EMPLOY.',\n",
    "    palette='coolwarm'\n",
    ")\n",
    "plt.title('Urban Population vs GDI, Colored by Employment Protection')\n",
    "plt.xlabel('Urban Population (% of total population)')\n",
    "plt.ylabel('Gender Development Index')\n",
    "plt.legend(title='Employment Protection')\n",
    "plt.show()"
   ]
  },
  {
   "cell_type": "code",
   "execution_count": 56,
   "metadata": {},
   "outputs": [],
   "source": [
    "import plotly.express as px"
   ]
  },
  {
   "cell_type": "code",
   "execution_count": 98,
   "metadata": {},
   "outputs": [
    {
     "data": {
      "application/vnd.plotly.v1+json": {
       "config": {
        "plotlyServerURL": "https://plot.ly"
       },
       "data": [
        {
         "customdata": [
          [
           "Afghanistan",
           0,
           0
          ],
          [
           "Albania",
           0,
           1
          ],
          [
           "Algeria",
           0,
           0
          ],
          [
           "Angola",
           0,
           1
          ],
          [
           "Argentina",
           0,
           0.5
          ],
          [
           "Armenia",
           0,
           0
          ],
          [
           "Australia",
           0,
           1
          ],
          [
           "Austria",
           0,
           1
          ],
          [
           "Azerbaijan",
           0,
           0
          ],
          [
           "Bahamas",
           0,
           0
          ],
          [
           "Bahrain",
           0,
           0
          ],
          [
           "Bangladesh",
           0,
           0
          ],
          [
           "Barbados",
           0,
           0
          ],
          [
           "Belarus",
           0,
           0
          ],
          [
           "Belgium",
           0,
           1
          ],
          [
           "Belize",
           0,
           0
          ],
          [
           "Benin",
           0,
           0
          ],
          [
           "Bhutan",
           0,
           0
          ],
          [
           "Bolivia",
           1,
           1
          ],
          [
           "Botswana",
           0,
           0
          ],
          [
           "Brazil",
           0,
           1
          ],
          [
           "Bulgaria",
           0,
           1
          ],
          [
           "Burkina Faso",
           0,
           0
          ],
          [
           "Burundi",
           0,
           0
          ],
          [
           "Cambodia",
           0,
           0
          ],
          [
           "Cameroon",
           0,
           0
          ],
          [
           "Canada",
           0,
           1
          ],
          [
           "Chad",
           0,
           0
          ],
          [
           "Chile",
           0,
           1
          ],
          [
           "China",
           0,
           0
          ],
          [
           "Colombia",
           0,
           1
          ],
          [
           "Comoros",
           0,
           0
          ],
          [
           "Congo",
           0,
           0
          ],
          [
           "Costa Rica",
           0,
           0
          ],
          [
           "Croatia",
           0,
           1
          ],
          [
           "Cuba",
           1,
           1
          ],
          [
           "Cyprus",
           0,
           1
          ],
          [
           "Denmark",
           0,
           0.5
          ],
          [
           "Djibouti",
           0,
           0
          ],
          [
           "Dominican Republic",
           0,
           0
          ],
          [
           "East Timor",
           0,
           0
          ],
          [
           "Ecuador",
           1,
           1
          ],
          [
           "Egypt",
           0,
           0
          ],
          [
           "El Salvador",
           0,
           0
          ],
          [
           "Estonia",
           0,
           1
          ],
          [
           "Eswatini",
           0,
           0
          ],
          [
           "Ethiopia",
           0,
           0
          ],
          [
           "Fiji",
           1,
           1
          ],
          [
           "Finland",
           0,
           1
          ],
          [
           "France",
           0,
           1
          ],
          [
           "Gabon",
           0,
           0
          ],
          [
           "Gambia",
           0,
           0
          ],
          [
           "Georgia",
           0,
           1
          ],
          [
           "Germany",
           0,
           1
          ],
          [
           "Ghana",
           0,
           0
          ],
          [
           "Greece",
           0,
           0
          ],
          [
           "Grenada",
           0,
           0
          ],
          [
           "Guatemala",
           0,
           0
          ],
          [
           "Guinea",
           0,
           0
          ],
          [
           "Guinea-Bissau",
           0,
           0
          ],
          [
           "Guyana",
           0,
           0
          ],
          [
           "Haiti",
           0,
           0
          ],
          [
           "Honduras",
           0,
           1
          ],
          [
           "Hungary",
           0,
           1
          ],
          [
           "Iceland",
           0,
           1
          ],
          [
           "India",
           0,
           0
          ],
          [
           "Iran",
           0,
           0
          ],
          [
           "Iraq",
           0,
           0
          ],
          [
           "Ireland",
           0,
           1
          ],
          [
           "Israel",
           0,
           1
          ],
          [
           "Italy",
           0,
           0.5
          ],
          [
           "Jamaica",
           0,
           0
          ],
          [
           "Japan",
           0,
           0.5
          ],
          [
           "Jordan",
           0,
           0
          ],
          [
           "Kazakhstan",
           0,
           0
          ],
          [
           "Kenya",
           0,
           0
          ],
          [
           "Kiribati",
           0,
           0
          ],
          [
           "Kuwait",
           0,
           0
          ],
          [
           "Kyrgyzstan",
           0,
           0
          ],
          [
           "Laos",
           0,
           0
          ],
          [
           "Latvia",
           0,
           0
          ],
          [
           "Lebanon",
           0,
           0
          ],
          [
           "Lesotho",
           0,
           0
          ],
          [
           "Liberia",
           0,
           0
          ],
          [
           "Libya",
           0,
           0
          ],
          [
           "Liechtenstein",
           0,
           1
          ],
          [
           "Lithuania",
           0,
           1
          ],
          [
           "Luxembourg",
           0,
           1
          ],
          [
           "Madagascar",
           0,
           0
          ],
          [
           "Malawi",
           0,
           0
          ],
          [
           "Malaysia",
           0,
           0
          ],
          [
           "Maldives",
           0,
           0
          ],
          [
           "Mali",
           0,
           0
          ],
          [
           "Malta",
           1,
           1
          ],
          [
           "Marshall Islands",
           0,
           1
          ],
          [
           "Mauritania",
           0,
           0
          ],
          [
           "Mauritius",
           0,
           1
          ],
          [
           "Mexico",
           1,
           1
          ],
          [
           "Moldova",
           0,
           0
          ],
          [
           "Mongolia",
           0,
           1
          ],
          [
           "Montenegro",
           0,
           1
          ],
          [
           "Morocco",
           0,
           0
          ],
          [
           "Mozambique",
           0,
           0
          ],
          [
           "Myanmar",
           0,
           0
          ],
          [
           "Namibia",
           0,
           0
          ],
          [
           "Nauru",
           0,
           0
          ],
          [
           "Nepal",
           1,
           1
          ],
          [
           "Netherlands",
           0,
           1
          ],
          [
           "New Zealand",
           0,
           1
          ],
          [
           "Nicaragua",
           0,
           0
          ],
          [
           "Niger",
           0,
           0
          ],
          [
           "Nigeria",
           0,
           0
          ],
          [
           "North Macedonia",
           0,
           1
          ],
          [
           "Norway",
           0,
           1
          ],
          [
           "Oman",
           0,
           0
          ],
          [
           "Pakistan",
           0,
           0
          ],
          [
           "Palau",
           0,
           0
          ],
          [
           "Panama",
           0,
           0
          ],
          [
           "Papua New Guinea",
           0,
           0
          ],
          [
           "Paraguay",
           0,
           0
          ],
          [
           "Peru",
           0,
           1
          ],
          [
           "Philippines",
           0,
           0.5
          ],
          [
           "Poland",
           0,
           0
          ],
          [
           "Portugal",
           1,
           1
          ],
          [
           "Qatar",
           0,
           0
          ],
          [
           "Romania",
           0,
           1
          ],
          [
           "Russia",
           0,
           0
          ],
          [
           "Rwanda",
           0,
           0
          ],
          [
           "Saint Lucia",
           0,
           0
          ],
          [
           "Samoa",
           0,
           0
          ],
          [
           "San Marino",
           1,
           1
          ],
          [
           "Saudi Arabia",
           0,
           0
          ],
          [
           "Senegal",
           0,
           0
          ],
          [
           "Serbia",
           0,
           1
          ],
          [
           "Seychelles",
           0,
           0
          ],
          [
           "Sierra Leone",
           0,
           0
          ],
          [
           "Singapore",
           0,
           0
          ],
          [
           "Slovakia",
           0,
           1
          ],
          [
           "Slovenia",
           0,
           1
          ],
          [
           "Solomon Islands",
           0,
           0
          ],
          [
           "South Africa",
           1,
           1
          ],
          [
           "South Korea",
           0,
           0.5
          ],
          [
           "Spain",
           0,
           1
          ],
          [
           "Sri Lanka",
           0,
           0
          ],
          [
           "Sudan",
           0,
           0
          ],
          [
           "Suriname",
           0,
           1
          ],
          [
           "Sweden",
           1,
           1
          ],
          [
           "Switzerland",
           0,
           0.5
          ],
          [
           "Syria",
           0,
           0
          ],
          [
           "Tajikistan",
           0,
           0
          ],
          [
           "Tanzania",
           0,
           0
          ],
          [
           "Thailand",
           0,
           0
          ],
          [
           "Togo",
           0,
           0
          ],
          [
           "Tonga",
           0,
           0
          ],
          [
           "Trinidad and Tobago",
           0,
           0
          ],
          [
           "Tunisia",
           0,
           0
          ],
          [
           "Turkey",
           0,
           0
          ],
          [
           "Tuvalu",
           0,
           0
          ],
          [
           "Uganda",
           0,
           0
          ],
          [
           "Ukraine",
           0,
           0
          ],
          [
           "United Arab Emirates",
           0,
           0
          ],
          [
           "United Kingdom",
           0,
           1
          ],
          [
           "United States",
           0,
           0.5
          ],
          [
           "Uruguay",
           0,
           1
          ],
          [
           "Uzbekistan",
           0,
           0
          ],
          [
           "Vanuatu",
           0,
           0
          ],
          [
           "Venezuela",
           0,
           0
          ],
          [
           "Vietnam",
           0,
           0
          ],
          [
           "Yemen",
           0,
           0
          ],
          [
           "Zambia",
           0,
           0
          ],
          [
           "Zimbabwe",
           0,
           0
          ]
         ],
         "hovertemplate": "Urban population (% of total population)=%{x}<br>Gender Development Index=%{y}<br>COUNTRY=%{customdata[0]}<br>CONST.=%{customdata[1]}<br>BROAD PROT.=%{customdata[2]}<br>EMPLOY.=%{marker.color}<extra></extra>",
         "legendgroup": "",
         "marker": {
          "color": [
           0,
           1,
           0,
           1,
           0.5,
           0,
           1,
           1,
           0,
           0,
           0,
           0,
           1,
           0,
           1,
           0,
           0,
           0,
           1,
           1,
           1,
           1,
           0,
           0,
           0,
           0,
           1,
           0,
           1,
           0,
           1,
           0,
           0,
           1,
           1,
           1,
           1,
           1,
           0,
           0.5,
           0,
           1,
           0,
           0.5,
           1,
           0,
           0,
           1,
           1,
           1,
           0,
           0,
           1,
           1,
           0,
           1,
           0,
           0,
           0,
           0,
           0,
           0,
           1,
           1,
           1,
           0,
           0,
           0,
           1,
           1,
           1,
           0.5,
           0.5,
           0,
           0,
           0,
           1,
           0,
           0,
           0,
           1,
           0,
           0,
           1,
           0,
           1,
           1,
           1,
           0,
           0,
           0,
           0,
           0,
           1,
           1,
           0,
           1,
           1,
           1,
           1,
           1,
           0,
           1,
           0,
           0,
           0,
           1,
           1,
           1,
           1,
           0,
           0,
           1,
           1,
           0,
           0,
           0,
           0,
           0,
           0,
           1,
           0.5,
           1,
           1,
           0,
           1,
           0,
           0,
           1,
           1,
           1,
           0,
           0,
           1,
           1,
           0,
           0,
           1,
           1,
           0,
           1,
           0.5,
           1,
           0,
           0,
           1,
           1,
           1,
           0,
           0,
           0,
           1,
           0,
           0,
           0,
           0,
           0,
           1,
           0,
           1,
           0,
           1,
           1,
           1,
           0,
           0.5,
           1,
           0,
           0,
           0,
           0
          ],
          "coloraxis": "coloraxis",
          "symbol": "circle"
         },
         "mode": "markers",
         "name": "",
         "orientation": "v",
         "showlegend": false,
         "type": "scatter",
         "x": [
          26.026,
          62.112,
          73.733,
          66.825,
          92.111,
          63.313,
          86.241,
          58.748,
          56.397,
          83.245,
          89.506,
          38.177,
          31.191,
          79.483,
          98.079,
          46.025,
          48.415,
          42.316,
          70.123,
          70.877,
          87.073,
          75.686,
          30.607,
          13.708,
          24.232,
          57.56,
          81.562,
          23.52,
          87.727,
          61.428,
          81.425,
          29.38,
          67.829,
          80.771,
          57.553,
          77.194,
          66.821,
          88.116,
          78.062,
          82.54,
          31.32,
          64.166,
          42.783,
          73.444,
          69.229,
          24.171,
          21.695,
          57.247,
          85.517,
          80.975,
          90.092,
          62.582,
          59.453,
          77.453,
          57.349,
          79.715,
          36.537,
          51.836,
          36.875,
          44.196,
          26.786,
          57.088,
          58.359,
          71.942,
          93.898,
          34.926,
          75.874,
          70.893,
          63.653,
          92.587,
          71.039,
          56.311,
          91.782,
          91.418,
          57.671,
          27.995,
          55.594,
          100,
          36.856,
          36.29,
          68.315,
          88.925,
          29.028,
          52.089,
          80.691,
          14.416,
          68.046,
          91.453,
          38.534,
          17.427,
          77.16,
          40.669,
          43.909,
          94.744,
          77.794,
          55.327,
          40.76,
          80.731,
          42.849,
          68.657,
          67.488,
          63.532,
          37.074,
          31.141,
          52.033,
          100,
          20.576,
          92.236,
          86.699,
          59.012,
          16.626,
          51.958,
          58.482,
          82.974,
          86.276,
          37.165,
          80.988,
          68.414,
          13.345,
          62.183,
          78.297,
          47.408,
          60.043,
          66.31,
          99.235,
          54.194,
          74.754,
          17.432,
          18.841,
          17.889,
          97.499,
          84.287,
          48.122,
          56.446,
          57.546,
          42.923,
          100,
          53.76,
          55.118,
          24.67,
          67.354,
          81.414,
          80.81,
          18.713,
          35.253,
          66.149,
          87.977,
          73.915,
          55.475,
          27.506,
          35.227,
          51.43,
          42.8,
          23.099,
          53.214,
          69.568,
          76.105,
          64.014,
          24.954,
          69.608,
          87.048,
          83.903,
          82.664,
          95.515,
          50.416,
          25.525,
          88.279,
          37.34,
          37.908,
          44.629,
          32.242
         ],
         "xaxis": "x",
         "y": [
          0.695,
          0.978,
          0.879,
          0.906,
          0.999,
          1.005,
          0.967,
          0.974,
          0.976,
          1.006,
          0.963,
          0.907,
          1.029,
          1.01,
          0.974,
          0.99,
          0.845,
          0.98,
          0.966,
          0.988,
          0.996,
          0.997,
          0.879,
          0.967,
          0.926,
          0.902,
          0.988,
          0.774,
          0.969,
          0.963,
          0.988,
          0.912,
          0.907,
          0.994,
          0.991,
          0.971,
          0.974,
          0.981,
          0.844,
          1.025,
          0.931,
          1.011,
          0.88,
          0.969,
          1.019,
          0.981,
          0.921,
          0.937,
          0.99,
          0.99,
          0.982,
          0.94,
          1.003,
          0.962,
          0.933,
          0.97,
          0.995,
          0.917,
          0.816,
          0.864,
          0.985,
          0.93,
          0.989,
          0.983,
          0.982,
          0.838,
          0.881,
          0.784,
          0.978,
          0.992,
          0.971,
          1.015,
          0.964,
          0.885,
          1.002,
          0.944,
          0.965,
          1.017,
          0.965,
          0.919,
          1.02,
          0.927,
          0.994,
          0.86,
          0.988,
          0.949,
          1.024,
          0.99,
          0.946,
          0.936,
          0.984,
          0.973,
          0.834,
          0.983,
          0.932,
          0.874,
          0.985,
          0.984,
          1.026,
          1.045,
          0.968,
          0.85,
          0.927,
          0.96,
          1.007,
          1.036,
          0.884,
          0.959,
          0.969,
          0.949,
          0.819,
          0.867,
          0.947,
          0.984,
          0.943,
          0.831,
          1.003,
          1.027,
          0.924,
          0.991,
          0.963,
          0.987,
          1.009,
          0.994,
          1.018,
          0.966,
          1.015,
          0.942,
          1.022,
          0.97,
          0.977,
          0.919,
          0.914,
          0.986,
          1.07,
          0.887,
          0.993,
          0.995,
          1.003,
          0.958,
          0.984,
          0.946,
          0.991,
          0.96,
          0.868,
          0.99,
          0.987,
          0.971,
          0.805,
          0.915,
          0.958,
          1.012,
          0.852,
          0.99,
          0.99,
          0.934,
          0.938,
          0.981,
          0.9,
          1.013,
          0.98,
          0.988,
          0.999,
          1.022,
          0.915,
          0.935,
          1.001,
          1.003,
          0.464,
          0.945,
          0.936
         ],
         "yaxis": "y"
        }
       ],
       "layout": {
        "coloraxis": {
         "colorbar": {
          "ticktext": [
           "Bad (0)",
           "Good (1)"
          ],
          "tickvals": [
           0,
           1
          ],
          "title": {
           "text": "Employment Protection"
          }
         },
         "colorscale": [
          [
           0,
           "red"
          ],
          [
           1,
           "green"
          ]
         ]
        },
        "legend": {
         "tracegroupgap": 0
        },
        "template": {
         "data": {
          "bar": [
           {
            "error_x": {
             "color": "#2a3f5f"
            },
            "error_y": {
             "color": "#2a3f5f"
            },
            "marker": {
             "line": {
              "color": "#E5ECF6",
              "width": 0.5
             },
             "pattern": {
              "fillmode": "overlay",
              "size": 10,
              "solidity": 0.2
             }
            },
            "type": "bar"
           }
          ],
          "barpolar": [
           {
            "marker": {
             "line": {
              "color": "#E5ECF6",
              "width": 0.5
             },
             "pattern": {
              "fillmode": "overlay",
              "size": 10,
              "solidity": 0.2
             }
            },
            "type": "barpolar"
           }
          ],
          "carpet": [
           {
            "aaxis": {
             "endlinecolor": "#2a3f5f",
             "gridcolor": "white",
             "linecolor": "white",
             "minorgridcolor": "white",
             "startlinecolor": "#2a3f5f"
            },
            "baxis": {
             "endlinecolor": "#2a3f5f",
             "gridcolor": "white",
             "linecolor": "white",
             "minorgridcolor": "white",
             "startlinecolor": "#2a3f5f"
            },
            "type": "carpet"
           }
          ],
          "choropleth": [
           {
            "colorbar": {
             "outlinewidth": 0,
             "ticks": ""
            },
            "type": "choropleth"
           }
          ],
          "contour": [
           {
            "colorbar": {
             "outlinewidth": 0,
             "ticks": ""
            },
            "colorscale": [
             [
              0,
              "#0d0887"
             ],
             [
              0.1111111111111111,
              "#46039f"
             ],
             [
              0.2222222222222222,
              "#7201a8"
             ],
             [
              0.3333333333333333,
              "#9c179e"
             ],
             [
              0.4444444444444444,
              "#bd3786"
             ],
             [
              0.5555555555555556,
              "#d8576b"
             ],
             [
              0.6666666666666666,
              "#ed7953"
             ],
             [
              0.7777777777777778,
              "#fb9f3a"
             ],
             [
              0.8888888888888888,
              "#fdca26"
             ],
             [
              1,
              "#f0f921"
             ]
            ],
            "type": "contour"
           }
          ],
          "contourcarpet": [
           {
            "colorbar": {
             "outlinewidth": 0,
             "ticks": ""
            },
            "type": "contourcarpet"
           }
          ],
          "heatmap": [
           {
            "colorbar": {
             "outlinewidth": 0,
             "ticks": ""
            },
            "colorscale": [
             [
              0,
              "#0d0887"
             ],
             [
              0.1111111111111111,
              "#46039f"
             ],
             [
              0.2222222222222222,
              "#7201a8"
             ],
             [
              0.3333333333333333,
              "#9c179e"
             ],
             [
              0.4444444444444444,
              "#bd3786"
             ],
             [
              0.5555555555555556,
              "#d8576b"
             ],
             [
              0.6666666666666666,
              "#ed7953"
             ],
             [
              0.7777777777777778,
              "#fb9f3a"
             ],
             [
              0.8888888888888888,
              "#fdca26"
             ],
             [
              1,
              "#f0f921"
             ]
            ],
            "type": "heatmap"
           }
          ],
          "heatmapgl": [
           {
            "colorbar": {
             "outlinewidth": 0,
             "ticks": ""
            },
            "colorscale": [
             [
              0,
              "#0d0887"
             ],
             [
              0.1111111111111111,
              "#46039f"
             ],
             [
              0.2222222222222222,
              "#7201a8"
             ],
             [
              0.3333333333333333,
              "#9c179e"
             ],
             [
              0.4444444444444444,
              "#bd3786"
             ],
             [
              0.5555555555555556,
              "#d8576b"
             ],
             [
              0.6666666666666666,
              "#ed7953"
             ],
             [
              0.7777777777777778,
              "#fb9f3a"
             ],
             [
              0.8888888888888888,
              "#fdca26"
             ],
             [
              1,
              "#f0f921"
             ]
            ],
            "type": "heatmapgl"
           }
          ],
          "histogram": [
           {
            "marker": {
             "pattern": {
              "fillmode": "overlay",
              "size": 10,
              "solidity": 0.2
             }
            },
            "type": "histogram"
           }
          ],
          "histogram2d": [
           {
            "colorbar": {
             "outlinewidth": 0,
             "ticks": ""
            },
            "colorscale": [
             [
              0,
              "#0d0887"
             ],
             [
              0.1111111111111111,
              "#46039f"
             ],
             [
              0.2222222222222222,
              "#7201a8"
             ],
             [
              0.3333333333333333,
              "#9c179e"
             ],
             [
              0.4444444444444444,
              "#bd3786"
             ],
             [
              0.5555555555555556,
              "#d8576b"
             ],
             [
              0.6666666666666666,
              "#ed7953"
             ],
             [
              0.7777777777777778,
              "#fb9f3a"
             ],
             [
              0.8888888888888888,
              "#fdca26"
             ],
             [
              1,
              "#f0f921"
             ]
            ],
            "type": "histogram2d"
           }
          ],
          "histogram2dcontour": [
           {
            "colorbar": {
             "outlinewidth": 0,
             "ticks": ""
            },
            "colorscale": [
             [
              0,
              "#0d0887"
             ],
             [
              0.1111111111111111,
              "#46039f"
             ],
             [
              0.2222222222222222,
              "#7201a8"
             ],
             [
              0.3333333333333333,
              "#9c179e"
             ],
             [
              0.4444444444444444,
              "#bd3786"
             ],
             [
              0.5555555555555556,
              "#d8576b"
             ],
             [
              0.6666666666666666,
              "#ed7953"
             ],
             [
              0.7777777777777778,
              "#fb9f3a"
             ],
             [
              0.8888888888888888,
              "#fdca26"
             ],
             [
              1,
              "#f0f921"
             ]
            ],
            "type": "histogram2dcontour"
           }
          ],
          "mesh3d": [
           {
            "colorbar": {
             "outlinewidth": 0,
             "ticks": ""
            },
            "type": "mesh3d"
           }
          ],
          "parcoords": [
           {
            "line": {
             "colorbar": {
              "outlinewidth": 0,
              "ticks": ""
             }
            },
            "type": "parcoords"
           }
          ],
          "pie": [
           {
            "automargin": true,
            "type": "pie"
           }
          ],
          "scatter": [
           {
            "fillpattern": {
             "fillmode": "overlay",
             "size": 10,
             "solidity": 0.2
            },
            "type": "scatter"
           }
          ],
          "scatter3d": [
           {
            "line": {
             "colorbar": {
              "outlinewidth": 0,
              "ticks": ""
             }
            },
            "marker": {
             "colorbar": {
              "outlinewidth": 0,
              "ticks": ""
             }
            },
            "type": "scatter3d"
           }
          ],
          "scattercarpet": [
           {
            "marker": {
             "colorbar": {
              "outlinewidth": 0,
              "ticks": ""
             }
            },
            "type": "scattercarpet"
           }
          ],
          "scattergeo": [
           {
            "marker": {
             "colorbar": {
              "outlinewidth": 0,
              "ticks": ""
             }
            },
            "type": "scattergeo"
           }
          ],
          "scattergl": [
           {
            "marker": {
             "colorbar": {
              "outlinewidth": 0,
              "ticks": ""
             }
            },
            "type": "scattergl"
           }
          ],
          "scattermapbox": [
           {
            "marker": {
             "colorbar": {
              "outlinewidth": 0,
              "ticks": ""
             }
            },
            "type": "scattermapbox"
           }
          ],
          "scatterpolar": [
           {
            "marker": {
             "colorbar": {
              "outlinewidth": 0,
              "ticks": ""
             }
            },
            "type": "scatterpolar"
           }
          ],
          "scatterpolargl": [
           {
            "marker": {
             "colorbar": {
              "outlinewidth": 0,
              "ticks": ""
             }
            },
            "type": "scatterpolargl"
           }
          ],
          "scatterternary": [
           {
            "marker": {
             "colorbar": {
              "outlinewidth": 0,
              "ticks": ""
             }
            },
            "type": "scatterternary"
           }
          ],
          "surface": [
           {
            "colorbar": {
             "outlinewidth": 0,
             "ticks": ""
            },
            "colorscale": [
             [
              0,
              "#0d0887"
             ],
             [
              0.1111111111111111,
              "#46039f"
             ],
             [
              0.2222222222222222,
              "#7201a8"
             ],
             [
              0.3333333333333333,
              "#9c179e"
             ],
             [
              0.4444444444444444,
              "#bd3786"
             ],
             [
              0.5555555555555556,
              "#d8576b"
             ],
             [
              0.6666666666666666,
              "#ed7953"
             ],
             [
              0.7777777777777778,
              "#fb9f3a"
             ],
             [
              0.8888888888888888,
              "#fdca26"
             ],
             [
              1,
              "#f0f921"
             ]
            ],
            "type": "surface"
           }
          ],
          "table": [
           {
            "cells": {
             "fill": {
              "color": "#EBF0F8"
             },
             "line": {
              "color": "white"
             }
            },
            "header": {
             "fill": {
              "color": "#C8D4E3"
             },
             "line": {
              "color": "white"
             }
            },
            "type": "table"
           }
          ]
         },
         "layout": {
          "annotationdefaults": {
           "arrowcolor": "#2a3f5f",
           "arrowhead": 0,
           "arrowwidth": 1
          },
          "autotypenumbers": "strict",
          "coloraxis": {
           "colorbar": {
            "outlinewidth": 0,
            "ticks": ""
           }
          },
          "colorscale": {
           "diverging": [
            [
             0,
             "#8e0152"
            ],
            [
             0.1,
             "#c51b7d"
            ],
            [
             0.2,
             "#de77ae"
            ],
            [
             0.3,
             "#f1b6da"
            ],
            [
             0.4,
             "#fde0ef"
            ],
            [
             0.5,
             "#f7f7f7"
            ],
            [
             0.6,
             "#e6f5d0"
            ],
            [
             0.7,
             "#b8e186"
            ],
            [
             0.8,
             "#7fbc41"
            ],
            [
             0.9,
             "#4d9221"
            ],
            [
             1,
             "#276419"
            ]
           ],
           "sequential": [
            [
             0,
             "#0d0887"
            ],
            [
             0.1111111111111111,
             "#46039f"
            ],
            [
             0.2222222222222222,
             "#7201a8"
            ],
            [
             0.3333333333333333,
             "#9c179e"
            ],
            [
             0.4444444444444444,
             "#bd3786"
            ],
            [
             0.5555555555555556,
             "#d8576b"
            ],
            [
             0.6666666666666666,
             "#ed7953"
            ],
            [
             0.7777777777777778,
             "#fb9f3a"
            ],
            [
             0.8888888888888888,
             "#fdca26"
            ],
            [
             1,
             "#f0f921"
            ]
           ],
           "sequentialminus": [
            [
             0,
             "#0d0887"
            ],
            [
             0.1111111111111111,
             "#46039f"
            ],
            [
             0.2222222222222222,
             "#7201a8"
            ],
            [
             0.3333333333333333,
             "#9c179e"
            ],
            [
             0.4444444444444444,
             "#bd3786"
            ],
            [
             0.5555555555555556,
             "#d8576b"
            ],
            [
             0.6666666666666666,
             "#ed7953"
            ],
            [
             0.7777777777777778,
             "#fb9f3a"
            ],
            [
             0.8888888888888888,
             "#fdca26"
            ],
            [
             1,
             "#f0f921"
            ]
           ]
          },
          "colorway": [
           "#636efa",
           "#EF553B",
           "#00cc96",
           "#ab63fa",
           "#FFA15A",
           "#19d3f3",
           "#FF6692",
           "#B6E880",
           "#FF97FF",
           "#FECB52"
          ],
          "font": {
           "color": "#2a3f5f"
          },
          "geo": {
           "bgcolor": "white",
           "lakecolor": "white",
           "landcolor": "#E5ECF6",
           "showlakes": true,
           "showland": true,
           "subunitcolor": "white"
          },
          "hoverlabel": {
           "align": "left"
          },
          "hovermode": "closest",
          "mapbox": {
           "style": "light"
          },
          "paper_bgcolor": "white",
          "plot_bgcolor": "#E5ECF6",
          "polar": {
           "angularaxis": {
            "gridcolor": "white",
            "linecolor": "white",
            "ticks": ""
           },
           "bgcolor": "#E5ECF6",
           "radialaxis": {
            "gridcolor": "white",
            "linecolor": "white",
            "ticks": ""
           }
          },
          "scene": {
           "xaxis": {
            "backgroundcolor": "#E5ECF6",
            "gridcolor": "white",
            "gridwidth": 2,
            "linecolor": "white",
            "showbackground": true,
            "ticks": "",
            "zerolinecolor": "white"
           },
           "yaxis": {
            "backgroundcolor": "#E5ECF6",
            "gridcolor": "white",
            "gridwidth": 2,
            "linecolor": "white",
            "showbackground": true,
            "ticks": "",
            "zerolinecolor": "white"
           },
           "zaxis": {
            "backgroundcolor": "#E5ECF6",
            "gridcolor": "white",
            "gridwidth": 2,
            "linecolor": "white",
            "showbackground": true,
            "ticks": "",
            "zerolinecolor": "white"
           }
          },
          "shapedefaults": {
           "line": {
            "color": "#2a3f5f"
           }
          },
          "ternary": {
           "aaxis": {
            "gridcolor": "white",
            "linecolor": "white",
            "ticks": ""
           },
           "baxis": {
            "gridcolor": "white",
            "linecolor": "white",
            "ticks": ""
           },
           "bgcolor": "#E5ECF6",
           "caxis": {
            "gridcolor": "white",
            "linecolor": "white",
            "ticks": ""
           }
          },
          "title": {
           "x": 0.05
          },
          "xaxis": {
           "automargin": true,
           "gridcolor": "white",
           "linecolor": "white",
           "ticks": "",
           "title": {
            "standoff": 15
           },
           "zerolinecolor": "white",
           "zerolinewidth": 2
          },
          "yaxis": {
           "automargin": true,
           "gridcolor": "white",
           "linecolor": "white",
           "ticks": "",
           "title": {
            "standoff": 15
           },
           "zerolinecolor": "white",
           "zerolinewidth": 2
          }
         }
        },
        "title": {
         "text": "Urban Population vs GDI, Colored by Employment Protection"
        },
        "xaxis": {
         "anchor": "y",
         "domain": [
          0,
          1
         ],
         "title": {
          "text": "Urban Population (% of total population)"
         }
        },
        "yaxis": {
         "anchor": "x",
         "domain": [
          0,
          1
         ],
         "title": {
          "text": "Gender Development Index"
         }
        }
       }
      }
     },
     "metadata": {},
     "output_type": "display_data"
    }
   ],
   "source": [
    "custom_colorscale = [[0, 'red'], [1, 'green']] \n",
    "\n",
    "\n",
    "fig = px.scatter(\n",
    "    final_df,\n",
    "    x='Urban population (% of total population)',\n",
    "    y='Gender Development Index',\n",
    "    color='EMPLOY.', \n",
    "    hover_data=['COUNTRY', 'CONST.', 'BROAD PROT.'],  \n",
    "    color_continuous_scale=custom_colorscale, \n",
    "    title='Urban Population vs GDI, Colored by Employment Protection'\n",
    ")\n",
    "\n",
    "\n",
    "fig.update_layout(\n",
    "    coloraxis_colorbar=dict(\n",
    "        title=\"Employment Protection\",\n",
    "        tickvals=[0, 1], \n",
    "        ticktext=['Bad (0)', 'Good (1)']\n",
    "    ),\n",
    "    xaxis_title=\"Urban Population (% of total population)\",\n",
    "    yaxis_title=\"Gender Development Index\"\n",
    ")\n",
    "\n",
    "\n",
    "fig.show()\n"
   ]
  },
  {
   "cell_type": "code",
   "execution_count": 60,
   "metadata": {},
   "outputs": [
    {
     "data": {
      "application/vnd.plotly.v1+json": {
       "config": {
        "plotlyServerURL": "https://plot.ly"
       },
       "data": [
        {
         "coloraxis": "coloraxis",
         "customdata": [
          [
           0,
           0,
           0,
           0.695,
           26.026
          ],
          [
           1,
           1,
           1,
           0.978,
           62.112
          ],
          [
           0,
           0,
           0,
           0.879,
           73.733
          ],
          [
           1,
           1,
           1,
           0.906,
           66.825
          ],
          [
           0.5,
           1,
           0,
           0.999,
           92.111
          ],
          [
           0,
           0,
           0,
           1.005,
           63.313
          ],
          [
           1,
           0.5,
           1,
           0.967,
           86.241
          ],
          [
           1,
           1,
           1,
           0.974,
           58.748
          ],
          [
           0,
           0,
           0,
           0.976,
           56.397
          ],
          [
           0,
           0,
           0,
           1.006,
           83.245
          ],
          [
           0,
           0,
           0,
           0.963,
           89.506
          ],
          [
           0,
           0,
           0,
           0.907,
           38.177
          ],
          [
           0,
           0,
           0,
           1.029,
           31.191
          ],
          [
           0,
           0,
           0,
           1.01,
           79.483
          ],
          [
           1,
           1,
           1,
           0.974,
           98.079
          ],
          [
           0,
           0,
           0,
           0.99,
           46.025
          ],
          [
           0,
           0,
           0,
           0.845,
           48.415
          ],
          [
           0,
           0,
           0,
           0.98,
           42.316
          ],
          [
           1,
           1,
           1,
           0.966,
           70.123
          ],
          [
           0,
           0,
           0,
           0.988,
           70.877
          ],
          [
           1,
           1,
           1,
           0.996,
           87.073
          ],
          [
           1,
           0,
           1,
           0.997,
           75.686
          ],
          [
           0,
           0,
           0,
           0.879,
           30.607
          ],
          [
           0,
           0,
           0,
           0.967,
           13.708
          ],
          [
           0,
           0,
           0,
           0.926,
           24.232
          ],
          [
           0,
           0,
           0,
           0.902,
           57.56
          ],
          [
           1,
           1,
           1,
           0.988,
           81.562
          ],
          [
           0,
           1,
           0,
           0.774,
           23.52
          ],
          [
           1,
           1,
           0,
           0.969,
           87.727
          ],
          [
           0,
           0,
           0,
           0.963,
           61.428
          ],
          [
           1,
           1,
           1,
           0.988,
           81.425
          ],
          [
           0,
           0,
           0,
           0.912,
           29.38
          ],
          [
           0,
           0,
           0,
           0.907,
           67.829
          ],
          [
           0,
           0,
           0,
           0.994,
           80.771
          ],
          [
           1,
           1,
           1,
           0.991,
           57.553
          ],
          [
           1,
           0,
           0,
           0.971,
           77.194
          ],
          [
           1,
           1,
           1,
           0.974,
           66.821
          ],
          [
           0.5,
           1,
           1,
           0.981,
           88.116
          ],
          [
           0,
           0,
           0,
           0.844,
           78.062
          ],
          [
           0,
           0,
           0,
           1.025,
           82.54
          ],
          [
           0,
           1,
           0,
           0.931,
           31.32
          ],
          [
           1,
           1,
           1,
           1.011,
           64.166
          ],
          [
           0,
           0,
           0,
           0.88,
           42.783
          ],
          [
           0,
           1,
           0,
           0.969,
           73.444
          ],
          [
           1,
           0,
           1,
           1.019,
           69.229
          ],
          [
           0,
           0,
           0,
           0.981,
           24.171
          ],
          [
           0,
           0,
           0,
           0.921,
           21.695
          ],
          [
           1,
           0,
           0.5,
           0.937,
           57.247
          ],
          [
           1,
           1,
           1,
           0.99,
           85.517
          ],
          [
           1,
           1,
           1,
           0.99,
           80.975
          ],
          [
           0,
           0,
           0,
           0.982,
           90.092
          ],
          [
           0,
           0,
           0,
           0.94,
           62.582
          ],
          [
           1,
           1,
           0,
           1.003,
           59.453
          ],
          [
           1,
           0,
           0,
           0.962,
           77.453
          ],
          [
           0,
           0,
           0,
           0.933,
           57.349
          ],
          [
           0,
           1,
           1,
           0.97,
           79.715
          ],
          [
           0,
           0.5,
           0,
           0.995,
           36.537
          ],
          [
           0,
           0,
           0,
           0.917,
           51.836
          ],
          [
           0,
           0,
           0,
           0.816,
           36.875
          ],
          [
           0,
           0,
           0,
           0.864,
           44.196
          ],
          [
           0,
           0,
           0,
           0.985,
           26.786
          ],
          [
           0,
           0.5,
           0,
           0.93,
           57.088
          ],
          [
           1,
           1,
           1,
           0.989,
           58.359
          ],
          [
           1,
           1,
           1,
           0.983,
           71.942
          ],
          [
           1,
           0,
           1,
           0.982,
           93.898
          ],
          [
           0,
           0,
           0,
           0.838,
           34.926
          ],
          [
           0,
           0,
           0,
           0.881,
           75.874
          ],
          [
           0,
           0,
           0,
           0.784,
           70.893
          ],
          [
           1,
           0,
           1,
           0.978,
           63.653
          ],
          [
           1,
           0,
           0.5,
           0.992,
           92.587
          ],
          [
           0.5,
           0,
           0,
           0.971,
           71.039
          ],
          [
           0,
           0,
           0,
           1.015,
           56.311
          ],
          [
           0.5,
           0,
           0,
           0.964,
           91.782
          ],
          [
           0,
           0,
           0,
           0.885,
           91.418
          ],
          [
           0,
           0,
           0,
           1.002,
           57.671
          ],
          [
           0,
           0,
           0,
           0.944,
           27.995
          ],
          [
           0,
           0,
           0,
           0.965,
           55.594
          ],
          [
           0,
           0,
           0,
           1.017,
           100
          ],
          [
           0,
           0,
           0,
           0.965,
           36.856
          ],
          [
           0,
           0,
           0,
           0.919,
           36.29
          ],
          [
           0,
           0,
           0,
           1.02,
           68.315
          ],
          [
           0,
           0,
           0,
           0.927,
           88.925
          ],
          [
           0,
           0,
           0,
           0.994,
           29.028
          ],
          [
           0,
           0,
           0,
           0.86,
           52.089
          ],
          [
           0,
           0,
           0,
           0.988,
           80.691
          ],
          [
           1,
           0,
           1,
           0.949,
           14.416
          ],
          [
           1,
           1,
           1,
           1.024,
           68.046
          ],
          [
           1,
           0,
           1,
           0.99,
           91.453
          ],
          [
           0,
           0,
           0,
           0.946,
           38.534
          ],
          [
           0,
           0,
           0,
           0.936,
           17.427
          ],
          [
           0,
           0,
           0,
           0.984,
           77.16
          ],
          [
           0,
           0,
           0,
           0.973,
           40.669
          ],
          [
           0,
           0,
           0,
           0.834,
           43.909
          ],
          [
           1,
           1,
           1,
           0.983,
           94.744
          ],
          [
           1,
           0,
           0,
           0.932,
           77.794
          ],
          [
           0,
           0,
           0,
           0.874,
           55.327
          ],
          [
           1,
           0,
           0,
           0.985,
           40.76
          ],
          [
           1,
           0.5,
           1,
           0.984,
           80.731
          ],
          [
           0,
           0,
           1,
           1.026,
           42.849
          ],
          [
           1,
           1,
           0,
           1.045,
           68.657
          ],
          [
           1,
           1,
           1,
           0.968,
           67.488
          ],
          [
           0,
           0,
           0,
           0.85,
           63.532
          ],
          [
           0,
           0,
           0,
           0.927,
           37.074
          ],
          [
           0,
           0,
           0,
           0.96,
           31.141
          ],
          [
           0,
           0,
           0,
           1.007,
           52.033
          ],
          [
           0,
           0,
           0,
           1.036,
           100
          ],
          [
           1,
           0,
           0,
           0.884,
           20.576
          ],
          [
           1,
           0.5,
           1,
           0.959,
           92.236
          ],
          [
           1,
           1,
           0.5,
           0.969,
           86.699
          ],
          [
           0,
           1,
           0,
           0.949,
           59.012
          ],
          [
           0,
           0,
           0,
           0.819,
           16.626
          ],
          [
           0,
           0,
           0,
           0.867,
           51.958
          ],
          [
           1,
           1,
           0,
           0.947,
           58.482
          ],
          [
           1,
           1,
           1,
           0.984,
           82.974
          ],
          [
           0,
           0,
           0,
           0.943,
           86.276
          ],
          [
           0,
           0,
           0,
           0.831,
           37.165
          ],
          [
           0,
           0,
           0,
           1.003,
           80.988
          ],
          [
           0,
           0,
           0,
           1.027,
           68.414
          ],
          [
           0,
           0,
           0,
           0.924,
           13.345
          ],
          [
           0,
           0,
           0,
           0.991,
           62.183
          ],
          [
           1,
           1,
           1,
           0.963,
           78.297
          ],
          [
           0.5,
           0,
           0,
           0.987,
           47.408
          ],
          [
           0,
           0,
           0,
           1.009,
           60.043
          ],
          [
           1,
           1,
           1,
           0.994,
           66.31
          ],
          [
           0,
           0,
           0,
           1.018,
           99.235
          ],
          [
           1,
           1,
           0.5,
           0.966,
           54.194
          ],
          [
           0,
           0,
           0,
           1.015,
           74.754
          ],
          [
           0,
           0,
           0,
           0.942,
           17.432
          ],
          [
           0,
           0.5,
           0,
           1.022,
           18.841
          ],
          [
           0,
           1,
           0,
           0.97,
           17.889
          ],
          [
           1,
           1,
           1,
           0.977,
           97.499
          ],
          [
           0,
           0,
           0,
           0.919,
           84.287
          ],
          [
           0,
           0,
           0,
           0.914,
           48.122
          ],
          [
           1,
           1,
           1,
           0.986,
           56.446
          ],
          [
           0,
           0,
           0,
           1.07,
           57.546
          ],
          [
           0,
           0,
           0,
           0.887,
           42.923
          ],
          [
           0,
           0,
           0.5,
           0.993,
           100
          ],
          [
           1,
           1,
           1,
           0.995,
           53.76
          ],
          [
           1,
           0,
           1,
           1.003,
           55.118
          ],
          [
           0,
           0,
           0,
           0.958,
           24.67
          ],
          [
           1,
           0,
           1,
           0.984,
           67.354
          ],
          [
           0.5,
           0,
           0,
           0.946,
           81.414
          ],
          [
           1,
           1,
           1,
           0.991,
           80.81
          ],
          [
           0,
           0,
           0,
           0.96,
           18.713
          ],
          [
           0,
           0,
           0,
           0.868,
           35.253
          ],
          [
           1,
           0,
           1,
           0.99,
           66.149
          ],
          [
           1,
           1,
           1,
           0.987,
           87.977
          ],
          [
           0.5,
           0,
           1,
           0.971,
           73.915
          ],
          [
           0,
           0,
           0,
           0.805,
           55.475
          ],
          [
           0,
           0,
           0,
           0.915,
           27.506
          ],
          [
           0,
           0,
           0.5,
           0.958,
           35.227
          ],
          [
           0,
           0,
           0,
           1.012,
           51.43
          ],
          [
           0,
           0,
           0,
           0.852,
           42.8
          ],
          [
           0,
           0,
           0,
           0.99,
           23.099
          ],
          [
           0,
           0,
           0,
           0.99,
           53.214
          ],
          [
           0,
           0,
           0,
           0.934,
           69.568
          ],
          [
           0,
           0,
           0,
           0.938,
           76.105
          ],
          [
           0,
           0,
           0,
           0.981,
           64.014
          ],
          [
           0,
           0,
           0,
           0.9,
           24.954
          ],
          [
           0,
           0,
           0,
           1.013,
           69.608
          ],
          [
           0,
           0,
           0,
           0.98,
           87.048
          ],
          [
           1,
           1,
           1,
           0.988,
           83.903
          ],
          [
           0.5,
           1,
           0,
           0.999,
           82.664
          ],
          [
           1,
           1,
           1,
           1.022,
           95.515
          ],
          [
           0,
           0,
           0,
           0.915,
           50.416
          ],
          [
           0,
           0,
           0,
           0.935,
           25.525
          ],
          [
           0,
           0,
           0,
           1.001,
           88.279
          ],
          [
           0,
           0,
           0,
           1.003,
           37.34
          ],
          [
           0,
           0,
           0,
           0.464,
           37.908
          ],
          [
           0,
           0,
           0,
           0.945,
           44.629
          ],
          [
           0,
           0,
           0,
           0.936,
           32.242
          ]
         ],
         "geo": "geo",
         "hovertemplate": "<b>%{hovertext}</b><br><br>COUNTRY=%{location}<br>BROAD PROT.=%{customdata[0]}<br>HATE CRIME=%{customdata[1]}<br>INCITEMENT=%{customdata[2]}<br>Gender Development Index=%{customdata[3]}<br>Urban population (% of total population)=%{customdata[4]}<br>EMPLOY.=%{z}<extra></extra>",
         "hovertext": [
          "Afghanistan",
          "Albania",
          "Algeria",
          "Angola",
          "Argentina",
          "Armenia",
          "Australia",
          "Austria",
          "Azerbaijan",
          "Bahamas",
          "Bahrain",
          "Bangladesh",
          "Barbados",
          "Belarus",
          "Belgium",
          "Belize",
          "Benin",
          "Bhutan",
          "Bolivia",
          "Botswana",
          "Brazil",
          "Bulgaria",
          "Burkina Faso",
          "Burundi",
          "Cambodia",
          "Cameroon",
          "Canada",
          "Chad",
          "Chile",
          "China",
          "Colombia",
          "Comoros",
          "Congo",
          "Costa Rica",
          "Croatia",
          "Cuba",
          "Cyprus",
          "Denmark",
          "Djibouti",
          "Dominican Republic",
          "East Timor",
          "Ecuador",
          "Egypt",
          "El Salvador",
          "Estonia",
          "Eswatini",
          "Ethiopia",
          "Fiji",
          "Finland",
          "France",
          "Gabon",
          "Gambia",
          "Georgia",
          "Germany",
          "Ghana",
          "Greece",
          "Grenada",
          "Guatemala",
          "Guinea",
          "Guinea-Bissau",
          "Guyana",
          "Haiti",
          "Honduras",
          "Hungary",
          "Iceland",
          "India",
          "Iran",
          "Iraq",
          "Ireland",
          "Israel",
          "Italy",
          "Jamaica",
          "Japan",
          "Jordan",
          "Kazakhstan",
          "Kenya",
          "Kiribati",
          "Kuwait",
          "Kyrgyzstan",
          "Laos",
          "Latvia",
          "Lebanon",
          "Lesotho",
          "Liberia",
          "Libya",
          "Liechtenstein",
          "Lithuania",
          "Luxembourg",
          "Madagascar",
          "Malawi",
          "Malaysia",
          "Maldives",
          "Mali",
          "Malta",
          "Marshall Islands",
          "Mauritania",
          "Mauritius",
          "Mexico",
          "Moldova",
          "Mongolia",
          "Montenegro",
          "Morocco",
          "Mozambique",
          "Myanmar",
          "Namibia",
          "Nauru",
          "Nepal",
          "Netherlands",
          "New Zealand",
          "Nicaragua",
          "Niger",
          "Nigeria",
          "North Macedonia",
          "Norway",
          "Oman",
          "Pakistan",
          "Palau",
          "Panama",
          "Papua New Guinea",
          "Paraguay",
          "Peru",
          "Philippines",
          "Poland",
          "Portugal",
          "Qatar",
          "Romania",
          "Russia",
          "Rwanda",
          "Saint Lucia",
          "Samoa",
          "San Marino",
          "Saudi Arabia",
          "Senegal",
          "Serbia",
          "Seychelles",
          "Sierra Leone",
          "Singapore",
          "Slovakia",
          "Slovenia",
          "Solomon Islands",
          "South Africa",
          "South Korea",
          "Spain",
          "Sri Lanka",
          "Sudan",
          "Suriname",
          "Sweden",
          "Switzerland",
          "Syria",
          "Tajikistan",
          "Tanzania",
          "Thailand",
          "Togo",
          "Tonga",
          "Trinidad and Tobago",
          "Tunisia",
          "Turkey",
          "Tuvalu",
          "Uganda",
          "Ukraine",
          "United Arab Emirates",
          "United Kingdom",
          "United States",
          "Uruguay",
          "Uzbekistan",
          "Vanuatu",
          "Venezuela",
          "Vietnam",
          "Yemen",
          "Zambia",
          "Zimbabwe"
         ],
         "locationmode": "country names",
         "locations": [
          "Afghanistan",
          "Albania",
          "Algeria",
          "Angola",
          "Argentina",
          "Armenia",
          "Australia",
          "Austria",
          "Azerbaijan",
          "Bahamas",
          "Bahrain",
          "Bangladesh",
          "Barbados",
          "Belarus",
          "Belgium",
          "Belize",
          "Benin",
          "Bhutan",
          "Bolivia",
          "Botswana",
          "Brazil",
          "Bulgaria",
          "Burkina Faso",
          "Burundi",
          "Cambodia",
          "Cameroon",
          "Canada",
          "Chad",
          "Chile",
          "China",
          "Colombia",
          "Comoros",
          "Congo",
          "Costa Rica",
          "Croatia",
          "Cuba",
          "Cyprus",
          "Denmark",
          "Djibouti",
          "Dominican Republic",
          "East Timor",
          "Ecuador",
          "Egypt",
          "El Salvador",
          "Estonia",
          "Eswatini",
          "Ethiopia",
          "Fiji",
          "Finland",
          "France",
          "Gabon",
          "Gambia",
          "Georgia",
          "Germany",
          "Ghana",
          "Greece",
          "Grenada",
          "Guatemala",
          "Guinea",
          "Guinea-Bissau",
          "Guyana",
          "Haiti",
          "Honduras",
          "Hungary",
          "Iceland",
          "India",
          "Iran",
          "Iraq",
          "Ireland",
          "Israel",
          "Italy",
          "Jamaica",
          "Japan",
          "Jordan",
          "Kazakhstan",
          "Kenya",
          "Kiribati",
          "Kuwait",
          "Kyrgyzstan",
          "Laos",
          "Latvia",
          "Lebanon",
          "Lesotho",
          "Liberia",
          "Libya",
          "Liechtenstein",
          "Lithuania",
          "Luxembourg",
          "Madagascar",
          "Malawi",
          "Malaysia",
          "Maldives",
          "Mali",
          "Malta",
          "Marshall Islands",
          "Mauritania",
          "Mauritius",
          "Mexico",
          "Moldova",
          "Mongolia",
          "Montenegro",
          "Morocco",
          "Mozambique",
          "Myanmar",
          "Namibia",
          "Nauru",
          "Nepal",
          "Netherlands",
          "New Zealand",
          "Nicaragua",
          "Niger",
          "Nigeria",
          "North Macedonia",
          "Norway",
          "Oman",
          "Pakistan",
          "Palau",
          "Panama",
          "Papua New Guinea",
          "Paraguay",
          "Peru",
          "Philippines",
          "Poland",
          "Portugal",
          "Qatar",
          "Romania",
          "Russia",
          "Rwanda",
          "Saint Lucia",
          "Samoa",
          "San Marino",
          "Saudi Arabia",
          "Senegal",
          "Serbia",
          "Seychelles",
          "Sierra Leone",
          "Singapore",
          "Slovakia",
          "Slovenia",
          "Solomon Islands",
          "South Africa",
          "South Korea",
          "Spain",
          "Sri Lanka",
          "Sudan",
          "Suriname",
          "Sweden",
          "Switzerland",
          "Syria",
          "Tajikistan",
          "Tanzania",
          "Thailand",
          "Togo",
          "Tonga",
          "Trinidad and Tobago",
          "Tunisia",
          "Turkey",
          "Tuvalu",
          "Uganda",
          "Ukraine",
          "United Arab Emirates",
          "United Kingdom",
          "United States",
          "Uruguay",
          "Uzbekistan",
          "Vanuatu",
          "Venezuela",
          "Vietnam",
          "Yemen",
          "Zambia",
          "Zimbabwe"
         ],
         "name": "",
         "type": "choropleth",
         "z": [
          0,
          1,
          0,
          1,
          0.5,
          0,
          1,
          1,
          0,
          0,
          0,
          0,
          1,
          0,
          1,
          0,
          0,
          0,
          1,
          1,
          1,
          1,
          0,
          0,
          0,
          0,
          1,
          0,
          1,
          0,
          1,
          0,
          0,
          1,
          1,
          1,
          1,
          1,
          0,
          0.5,
          0,
          1,
          0,
          0.5,
          1,
          0,
          0,
          1,
          1,
          1,
          0,
          0,
          1,
          1,
          0,
          1,
          0,
          0,
          0,
          0,
          0,
          0,
          1,
          1,
          1,
          0,
          0,
          0,
          1,
          1,
          1,
          0.5,
          0.5,
          0,
          0,
          0,
          1,
          0,
          0,
          0,
          1,
          0,
          0,
          1,
          0,
          1,
          1,
          1,
          0,
          0,
          0,
          0,
          0,
          1,
          1,
          0,
          1,
          1,
          1,
          1,
          1,
          0,
          1,
          0,
          0,
          0,
          1,
          1,
          1,
          1,
          0,
          0,
          1,
          1,
          0,
          0,
          0,
          0,
          0,
          0,
          1,
          0.5,
          1,
          1,
          0,
          1,
          0,
          0,
          1,
          1,
          1,
          0,
          0,
          1,
          1,
          0,
          0,
          1,
          1,
          0,
          1,
          0.5,
          1,
          0,
          0,
          1,
          1,
          1,
          0,
          0,
          0,
          1,
          0,
          0,
          0,
          0,
          0,
          1,
          0,
          1,
          0,
          1,
          1,
          1,
          0,
          0.5,
          1,
          0,
          0,
          0,
          0
         ]
        }
       ],
       "layout": {
        "coloraxis": {
         "colorbar": {
          "ticktext": [
           "Bad (0)",
           "Good (1)"
          ],
          "tickvals": [
           0,
           1
          ],
          "title": {
           "text": "Employment Protection"
          }
         },
         "colorscale": [
          [
           0,
           "red"
          ],
          [
           1,
           "green"
          ]
         ]
        },
        "geo": {
         "center": {},
         "domain": {
          "x": [
           0,
           1
          ],
          "y": [
           0,
           1
          ]
         }
        },
        "legend": {
         "tracegroupgap": 0
        },
        "template": {
         "data": {
          "bar": [
           {
            "error_x": {
             "color": "#2a3f5f"
            },
            "error_y": {
             "color": "#2a3f5f"
            },
            "marker": {
             "line": {
              "color": "#E5ECF6",
              "width": 0.5
             },
             "pattern": {
              "fillmode": "overlay",
              "size": 10,
              "solidity": 0.2
             }
            },
            "type": "bar"
           }
          ],
          "barpolar": [
           {
            "marker": {
             "line": {
              "color": "#E5ECF6",
              "width": 0.5
             },
             "pattern": {
              "fillmode": "overlay",
              "size": 10,
              "solidity": 0.2
             }
            },
            "type": "barpolar"
           }
          ],
          "carpet": [
           {
            "aaxis": {
             "endlinecolor": "#2a3f5f",
             "gridcolor": "white",
             "linecolor": "white",
             "minorgridcolor": "white",
             "startlinecolor": "#2a3f5f"
            },
            "baxis": {
             "endlinecolor": "#2a3f5f",
             "gridcolor": "white",
             "linecolor": "white",
             "minorgridcolor": "white",
             "startlinecolor": "#2a3f5f"
            },
            "type": "carpet"
           }
          ],
          "choropleth": [
           {
            "colorbar": {
             "outlinewidth": 0,
             "ticks": ""
            },
            "type": "choropleth"
           }
          ],
          "contour": [
           {
            "colorbar": {
             "outlinewidth": 0,
             "ticks": ""
            },
            "colorscale": [
             [
              0,
              "#0d0887"
             ],
             [
              0.1111111111111111,
              "#46039f"
             ],
             [
              0.2222222222222222,
              "#7201a8"
             ],
             [
              0.3333333333333333,
              "#9c179e"
             ],
             [
              0.4444444444444444,
              "#bd3786"
             ],
             [
              0.5555555555555556,
              "#d8576b"
             ],
             [
              0.6666666666666666,
              "#ed7953"
             ],
             [
              0.7777777777777778,
              "#fb9f3a"
             ],
             [
              0.8888888888888888,
              "#fdca26"
             ],
             [
              1,
              "#f0f921"
             ]
            ],
            "type": "contour"
           }
          ],
          "contourcarpet": [
           {
            "colorbar": {
             "outlinewidth": 0,
             "ticks": ""
            },
            "type": "contourcarpet"
           }
          ],
          "heatmap": [
           {
            "colorbar": {
             "outlinewidth": 0,
             "ticks": ""
            },
            "colorscale": [
             [
              0,
              "#0d0887"
             ],
             [
              0.1111111111111111,
              "#46039f"
             ],
             [
              0.2222222222222222,
              "#7201a8"
             ],
             [
              0.3333333333333333,
              "#9c179e"
             ],
             [
              0.4444444444444444,
              "#bd3786"
             ],
             [
              0.5555555555555556,
              "#d8576b"
             ],
             [
              0.6666666666666666,
              "#ed7953"
             ],
             [
              0.7777777777777778,
              "#fb9f3a"
             ],
             [
              0.8888888888888888,
              "#fdca26"
             ],
             [
              1,
              "#f0f921"
             ]
            ],
            "type": "heatmap"
           }
          ],
          "heatmapgl": [
           {
            "colorbar": {
             "outlinewidth": 0,
             "ticks": ""
            },
            "colorscale": [
             [
              0,
              "#0d0887"
             ],
             [
              0.1111111111111111,
              "#46039f"
             ],
             [
              0.2222222222222222,
              "#7201a8"
             ],
             [
              0.3333333333333333,
              "#9c179e"
             ],
             [
              0.4444444444444444,
              "#bd3786"
             ],
             [
              0.5555555555555556,
              "#d8576b"
             ],
             [
              0.6666666666666666,
              "#ed7953"
             ],
             [
              0.7777777777777778,
              "#fb9f3a"
             ],
             [
              0.8888888888888888,
              "#fdca26"
             ],
             [
              1,
              "#f0f921"
             ]
            ],
            "type": "heatmapgl"
           }
          ],
          "histogram": [
           {
            "marker": {
             "pattern": {
              "fillmode": "overlay",
              "size": 10,
              "solidity": 0.2
             }
            },
            "type": "histogram"
           }
          ],
          "histogram2d": [
           {
            "colorbar": {
             "outlinewidth": 0,
             "ticks": ""
            },
            "colorscale": [
             [
              0,
              "#0d0887"
             ],
             [
              0.1111111111111111,
              "#46039f"
             ],
             [
              0.2222222222222222,
              "#7201a8"
             ],
             [
              0.3333333333333333,
              "#9c179e"
             ],
             [
              0.4444444444444444,
              "#bd3786"
             ],
             [
              0.5555555555555556,
              "#d8576b"
             ],
             [
              0.6666666666666666,
              "#ed7953"
             ],
             [
              0.7777777777777778,
              "#fb9f3a"
             ],
             [
              0.8888888888888888,
              "#fdca26"
             ],
             [
              1,
              "#f0f921"
             ]
            ],
            "type": "histogram2d"
           }
          ],
          "histogram2dcontour": [
           {
            "colorbar": {
             "outlinewidth": 0,
             "ticks": ""
            },
            "colorscale": [
             [
              0,
              "#0d0887"
             ],
             [
              0.1111111111111111,
              "#46039f"
             ],
             [
              0.2222222222222222,
              "#7201a8"
             ],
             [
              0.3333333333333333,
              "#9c179e"
             ],
             [
              0.4444444444444444,
              "#bd3786"
             ],
             [
              0.5555555555555556,
              "#d8576b"
             ],
             [
              0.6666666666666666,
              "#ed7953"
             ],
             [
              0.7777777777777778,
              "#fb9f3a"
             ],
             [
              0.8888888888888888,
              "#fdca26"
             ],
             [
              1,
              "#f0f921"
             ]
            ],
            "type": "histogram2dcontour"
           }
          ],
          "mesh3d": [
           {
            "colorbar": {
             "outlinewidth": 0,
             "ticks": ""
            },
            "type": "mesh3d"
           }
          ],
          "parcoords": [
           {
            "line": {
             "colorbar": {
              "outlinewidth": 0,
              "ticks": ""
             }
            },
            "type": "parcoords"
           }
          ],
          "pie": [
           {
            "automargin": true,
            "type": "pie"
           }
          ],
          "scatter": [
           {
            "fillpattern": {
             "fillmode": "overlay",
             "size": 10,
             "solidity": 0.2
            },
            "type": "scatter"
           }
          ],
          "scatter3d": [
           {
            "line": {
             "colorbar": {
              "outlinewidth": 0,
              "ticks": ""
             }
            },
            "marker": {
             "colorbar": {
              "outlinewidth": 0,
              "ticks": ""
             }
            },
            "type": "scatter3d"
           }
          ],
          "scattercarpet": [
           {
            "marker": {
             "colorbar": {
              "outlinewidth": 0,
              "ticks": ""
             }
            },
            "type": "scattercarpet"
           }
          ],
          "scattergeo": [
           {
            "marker": {
             "colorbar": {
              "outlinewidth": 0,
              "ticks": ""
             }
            },
            "type": "scattergeo"
           }
          ],
          "scattergl": [
           {
            "marker": {
             "colorbar": {
              "outlinewidth": 0,
              "ticks": ""
             }
            },
            "type": "scattergl"
           }
          ],
          "scattermapbox": [
           {
            "marker": {
             "colorbar": {
              "outlinewidth": 0,
              "ticks": ""
             }
            },
            "type": "scattermapbox"
           }
          ],
          "scatterpolar": [
           {
            "marker": {
             "colorbar": {
              "outlinewidth": 0,
              "ticks": ""
             }
            },
            "type": "scatterpolar"
           }
          ],
          "scatterpolargl": [
           {
            "marker": {
             "colorbar": {
              "outlinewidth": 0,
              "ticks": ""
             }
            },
            "type": "scatterpolargl"
           }
          ],
          "scatterternary": [
           {
            "marker": {
             "colorbar": {
              "outlinewidth": 0,
              "ticks": ""
             }
            },
            "type": "scatterternary"
           }
          ],
          "surface": [
           {
            "colorbar": {
             "outlinewidth": 0,
             "ticks": ""
            },
            "colorscale": [
             [
              0,
              "#0d0887"
             ],
             [
              0.1111111111111111,
              "#46039f"
             ],
             [
              0.2222222222222222,
              "#7201a8"
             ],
             [
              0.3333333333333333,
              "#9c179e"
             ],
             [
              0.4444444444444444,
              "#bd3786"
             ],
             [
              0.5555555555555556,
              "#d8576b"
             ],
             [
              0.6666666666666666,
              "#ed7953"
             ],
             [
              0.7777777777777778,
              "#fb9f3a"
             ],
             [
              0.8888888888888888,
              "#fdca26"
             ],
             [
              1,
              "#f0f921"
             ]
            ],
            "type": "surface"
           }
          ],
          "table": [
           {
            "cells": {
             "fill": {
              "color": "#EBF0F8"
             },
             "line": {
              "color": "white"
             }
            },
            "header": {
             "fill": {
              "color": "#C8D4E3"
             },
             "line": {
              "color": "white"
             }
            },
            "type": "table"
           }
          ]
         },
         "layout": {
          "annotationdefaults": {
           "arrowcolor": "#2a3f5f",
           "arrowhead": 0,
           "arrowwidth": 1
          },
          "autotypenumbers": "strict",
          "coloraxis": {
           "colorbar": {
            "outlinewidth": 0,
            "ticks": ""
           }
          },
          "colorscale": {
           "diverging": [
            [
             0,
             "#8e0152"
            ],
            [
             0.1,
             "#c51b7d"
            ],
            [
             0.2,
             "#de77ae"
            ],
            [
             0.3,
             "#f1b6da"
            ],
            [
             0.4,
             "#fde0ef"
            ],
            [
             0.5,
             "#f7f7f7"
            ],
            [
             0.6,
             "#e6f5d0"
            ],
            [
             0.7,
             "#b8e186"
            ],
            [
             0.8,
             "#7fbc41"
            ],
            [
             0.9,
             "#4d9221"
            ],
            [
             1,
             "#276419"
            ]
           ],
           "sequential": [
            [
             0,
             "#0d0887"
            ],
            [
             0.1111111111111111,
             "#46039f"
            ],
            [
             0.2222222222222222,
             "#7201a8"
            ],
            [
             0.3333333333333333,
             "#9c179e"
            ],
            [
             0.4444444444444444,
             "#bd3786"
            ],
            [
             0.5555555555555556,
             "#d8576b"
            ],
            [
             0.6666666666666666,
             "#ed7953"
            ],
            [
             0.7777777777777778,
             "#fb9f3a"
            ],
            [
             0.8888888888888888,
             "#fdca26"
            ],
            [
             1,
             "#f0f921"
            ]
           ],
           "sequentialminus": [
            [
             0,
             "#0d0887"
            ],
            [
             0.1111111111111111,
             "#46039f"
            ],
            [
             0.2222222222222222,
             "#7201a8"
            ],
            [
             0.3333333333333333,
             "#9c179e"
            ],
            [
             0.4444444444444444,
             "#bd3786"
            ],
            [
             0.5555555555555556,
             "#d8576b"
            ],
            [
             0.6666666666666666,
             "#ed7953"
            ],
            [
             0.7777777777777778,
             "#fb9f3a"
            ],
            [
             0.8888888888888888,
             "#fdca26"
            ],
            [
             1,
             "#f0f921"
            ]
           ]
          },
          "colorway": [
           "#636efa",
           "#EF553B",
           "#00cc96",
           "#ab63fa",
           "#FFA15A",
           "#19d3f3",
           "#FF6692",
           "#B6E880",
           "#FF97FF",
           "#FECB52"
          ],
          "font": {
           "color": "#2a3f5f"
          },
          "geo": {
           "bgcolor": "white",
           "lakecolor": "white",
           "landcolor": "#E5ECF6",
           "showlakes": true,
           "showland": true,
           "subunitcolor": "white"
          },
          "hoverlabel": {
           "align": "left"
          },
          "hovermode": "closest",
          "mapbox": {
           "style": "light"
          },
          "paper_bgcolor": "white",
          "plot_bgcolor": "#E5ECF6",
          "polar": {
           "angularaxis": {
            "gridcolor": "white",
            "linecolor": "white",
            "ticks": ""
           },
           "bgcolor": "#E5ECF6",
           "radialaxis": {
            "gridcolor": "white",
            "linecolor": "white",
            "ticks": ""
           }
          },
          "scene": {
           "xaxis": {
            "backgroundcolor": "#E5ECF6",
            "gridcolor": "white",
            "gridwidth": 2,
            "linecolor": "white",
            "showbackground": true,
            "ticks": "",
            "zerolinecolor": "white"
           },
           "yaxis": {
            "backgroundcolor": "#E5ECF6",
            "gridcolor": "white",
            "gridwidth": 2,
            "linecolor": "white",
            "showbackground": true,
            "ticks": "",
            "zerolinecolor": "white"
           },
           "zaxis": {
            "backgroundcolor": "#E5ECF6",
            "gridcolor": "white",
            "gridwidth": 2,
            "linecolor": "white",
            "showbackground": true,
            "ticks": "",
            "zerolinecolor": "white"
           }
          },
          "shapedefaults": {
           "line": {
            "color": "#2a3f5f"
           }
          },
          "ternary": {
           "aaxis": {
            "gridcolor": "white",
            "linecolor": "white",
            "ticks": ""
           },
           "baxis": {
            "gridcolor": "white",
            "linecolor": "white",
            "ticks": ""
           },
           "bgcolor": "#E5ECF6",
           "caxis": {
            "gridcolor": "white",
            "linecolor": "white",
            "ticks": ""
           }
          },
          "title": {
           "x": 0.05
          },
          "xaxis": {
           "automargin": true,
           "gridcolor": "white",
           "linecolor": "white",
           "ticks": "",
           "title": {
            "standoff": 15
           },
           "zerolinecolor": "white",
           "zerolinewidth": 2
          },
          "yaxis": {
           "automargin": true,
           "gridcolor": "white",
           "linecolor": "white",
           "ticks": "",
           "title": {
            "standoff": 15
           },
           "zerolinecolor": "white",
           "zerolinewidth": 2
          }
         }
        },
        "title": {
         "text": "Employment Protection for LGBT Individuals by Country"
        }
       }
      }
     },
     "metadata": {},
     "output_type": "display_data"
    }
   ],
   "source": [
    "fig = px.choropleth(\n",
    "    final_df,\n",
    "    locations=\"COUNTRY\",\n",
    "    locationmode=\"country names\",\n",
    "    color=\"EMPLOY.\",\n",
    "    hover_name=\"COUNTRY\",\n",
    "    hover_data={\n",
    "        \"BROAD PROT.\": True,\n",
    "        \"HATE CRIME\": True,\n",
    "        \"INCITEMENT\": True,\n",
    "        \"Gender Development Index\": True,\n",
    "        \"Urban population (% of total population)\": True\n",
    "    },\n",
    "    title=\"Employment Protection for LGBT Individuals by Country\",\n",
    "    color_continuous_scale=[[0, 'red'], [1, 'green']]\n",
    ")\n",
    "\n",
    "fig.update_layout(\n",
    "    coloraxis_colorbar=dict(\n",
    "        title=\"Employment Protection\",\n",
    "        tickvals=[0, 1],\n",
    "        ticktext=[\"Bad (0)\", \"Good (1)\"]\n",
    "    )\n",
    ")\n",
    "\n",
    "fig.show()"
   ]
  },
  {
   "cell_type": "markdown",
   "metadata": {},
   "source": [
    "### Clustering"
   ]
  },
  {
   "cell_type": "code",
   "execution_count": 76,
   "metadata": {},
   "outputs": [],
   "source": [
    "from sklearn.preprocessing import MinMaxScaler\n",
    "from sklearn.cluster import KMeans\n",
    "from sklearn.cluster import DBSCAN"
   ]
  },
  {
   "cell_type": "code",
   "execution_count": 77,
   "metadata": {},
   "outputs": [],
   "source": [
    "numeric_data = final_df.drop(columns=[\"COUNTRY\"])\n",
    "scaler = MinMaxScaler()\n",
    "scaled_data = scaler.fit_transform(numeric_data)"
   ]
  },
  {
   "cell_type": "code",
   "execution_count": 78,
   "metadata": {},
   "outputs": [],
   "source": [
    "dbscan = DBSCAN(eps=0.5, min_samples=2)  # Adjust parameters as needed\n",
    "labels = dbscan.fit_predict(scaled_data)\n",
    "\n",
    "# Add cluster labels to the original dataframe\n",
    "df[\"Cluster\"] = labels"
   ]
  },
  {
   "cell_type": "code",
   "execution_count": 79,
   "metadata": {},
   "outputs": [
    {
     "data": {
      "application/vnd.plotly.v1+json": {
       "config": {
        "plotlyServerURL": "https://plot.ly"
       },
       "data": [
        {
         "hovertemplate": "<b>%{hovertext}</b><br><br>color=0<br>Urban population (% of total population)=%{x}<br>Gender Development Index=%{y}<extra></extra>",
         "hovertext": [
          "Afghanistan",
          "Algeria",
          "Bangladesh",
          "Bhutan",
          "Burundi",
          "Cameroon",
          "Comoros",
          "Eswatini",
          "Ethiopia",
          "Gambia",
          "Ghana",
          "Guinea",
          "Guyana",
          "Iran",
          "Kenya",
          "Kuwait",
          "Lebanon",
          "Libya",
          "Malawi",
          "Malaysia",
          "Maldives",
          "Mauritania",
          "Morocco",
          "Myanmar",
          "Namibia",
          "Nigeria",
          "Oman",
          "Pakistan",
          "Papua New Guinea",
          "Qatar",
          "Saudi Arabia",
          "Senegal",
          "Sierra Leone",
          "Solomon Islands",
          "Sri Lanka",
          "Sudan",
          "Syria",
          "Togo",
          "Tonga",
          "Tunisia",
          "Uganda",
          "United Arab Emirates",
          "Uzbekistan",
          "Yemen",
          "Zambia",
          "Zimbabwe"
         ],
         "legendgroup": "0",
         "marker": {
          "color": "#636efa",
          "symbol": "circle"
         },
         "mode": "markers",
         "name": "0",
         "orientation": "v",
         "showlegend": true,
         "type": "scatter",
         "x": [
          26.026,
          73.733,
          38.177,
          42.316,
          13.708,
          57.56,
          29.38,
          24.171,
          21.695,
          62.582,
          57.349,
          36.875,
          26.786,
          75.874,
          27.995,
          100,
          88.925,
          80.691,
          17.427,
          77.16,
          40.669,
          55.327,
          63.532,
          31.141,
          52.033,
          51.958,
          86.276,
          37.165,
          13.345,
          99.235,
          84.287,
          48.122,
          42.923,
          24.67,
          18.713,
          35.253,
          55.475,
          42.8,
          23.099,
          69.568,
          24.954,
          87.048,
          50.416,
          37.908,
          44.629,
          32.242
         ],
         "xaxis": "x",
         "y": [
          0.695,
          0.879,
          0.907,
          0.98,
          0.967,
          0.902,
          0.912,
          0.981,
          0.921,
          0.94,
          0.933,
          0.816,
          0.985,
          0.881,
          0.944,
          1.017,
          0.927,
          0.988,
          0.936,
          0.984,
          0.973,
          0.874,
          0.85,
          0.96,
          1.007,
          0.867,
          0.943,
          0.831,
          0.924,
          1.018,
          0.919,
          0.914,
          0.887,
          0.958,
          0.96,
          0.868,
          0.805,
          0.852,
          0.99,
          0.934,
          0.9,
          0.98,
          0.915,
          0.464,
          0.945,
          0.936
         ],
         "yaxis": "y"
        },
        {
         "hovertemplate": "<b>%{hovertext}</b><br><br>color=1<br>Urban population (% of total population)=%{x}<br>Gender Development Index=%{y}<extra></extra>",
         "hovertext": [
          "Albania",
          "Angola",
          "Honduras",
          "Lithuania",
          "Peru",
          "Serbia",
          "Slovakia"
         ],
         "legendgroup": "1",
         "marker": {
          "color": "#EF553B",
          "symbol": "circle"
         },
         "mode": "markers",
         "name": "1",
         "orientation": "v",
         "showlegend": true,
         "type": "scatter",
         "x": [
          62.112,
          66.825,
          58.359,
          68.046,
          78.297,
          56.446,
          53.76
         ],
         "xaxis": "x",
         "y": [
          0.978,
          0.906,
          0.989,
          1.024,
          0.963,
          0.986,
          0.995
         ],
         "yaxis": "y"
        },
        {
         "hovertemplate": "<b>%{hovertext}</b><br><br>color=-1<br>Urban population (% of total population)=%{x}<br>Gender Development Index=%{y}<extra></extra>",
         "hovertext": [
          "Argentina",
          "Australia",
          "Bolivia",
          "Brazil",
          "Chad",
          "Chile",
          "Costa Rica",
          "Cuba",
          "Denmark",
          "Dominican Republic",
          "East Timor",
          "Ecuador",
          "El Salvador",
          "Fiji",
          "Germany",
          "Greece",
          "Grenada",
          "Haiti",
          "Israel",
          "Italy",
          "Jamaica",
          "Japan",
          "Liechtenstein",
          "Luxembourg",
          "Malta",
          "Marshall Islands",
          "Mauritius",
          "Mexico",
          "Moldova",
          "Nauru",
          "Nepal",
          "Netherlands",
          "New Zealand",
          "Nicaragua",
          "Portugal",
          "Romania",
          "Saint Lucia",
          "Samoa",
          "San Marino",
          "Singapore",
          "South Africa",
          "Sweden",
          "Switzerland",
          "Tanzania",
          "United States",
          "Vanuatu"
         ],
         "legendgroup": "-1",
         "marker": {
          "color": "#00cc96",
          "symbol": "circle"
         },
         "mode": "markers",
         "name": "-1",
         "orientation": "v",
         "showlegend": true,
         "type": "scatter",
         "x": [
          92.111,
          86.241,
          70.123,
          87.073,
          23.52,
          87.727,
          80.771,
          77.194,
          88.116,
          82.54,
          31.32,
          64.166,
          73.444,
          57.247,
          77.453,
          79.715,
          36.537,
          57.088,
          92.587,
          71.039,
          56.311,
          91.782,
          14.416,
          91.453,
          94.744,
          77.794,
          40.76,
          80.731,
          42.849,
          100,
          20.576,
          92.236,
          86.699,
          59.012,
          66.31,
          54.194,
          18.841,
          17.889,
          97.499,
          100,
          67.354,
          87.977,
          73.915,
          35.227,
          82.664,
          25.525
         ],
         "xaxis": "x",
         "y": [
          0.999,
          0.967,
          0.966,
          0.996,
          0.774,
          0.969,
          0.994,
          0.971,
          0.981,
          1.025,
          0.931,
          1.011,
          0.969,
          0.937,
          0.962,
          0.97,
          0.995,
          0.93,
          0.992,
          0.971,
          1.015,
          0.964,
          0.949,
          0.99,
          0.983,
          0.932,
          0.985,
          0.984,
          1.026,
          1.036,
          0.884,
          0.959,
          0.969,
          0.949,
          0.994,
          0.966,
          1.022,
          0.97,
          0.977,
          0.993,
          0.984,
          0.987,
          0.971,
          0.958,
          0.999,
          0.935
         ],
         "yaxis": "y"
        },
        {
         "hovertemplate": "<b>%{hovertext}</b><br><br>color=2<br>Urban population (% of total population)=%{x}<br>Gender Development Index=%{y}<extra></extra>",
         "hovertext": [
          "Armenia",
          "Azerbaijan",
          "Bahamas",
          "Bahrain",
          "Belarus",
          "Belize",
          "Benin",
          "Burkina Faso",
          "Cambodia",
          "China",
          "Congo",
          "Djibouti",
          "Egypt",
          "Gabon",
          "Guatemala",
          "Guinea-Bissau",
          "India",
          "Iraq",
          "Jordan",
          "Kazakhstan",
          "Kyrgyzstan",
          "Laos",
          "Lesotho",
          "Madagascar",
          "Mali",
          "Niger",
          "Palau",
          "Panama",
          "Paraguay",
          "Russia",
          "Rwanda",
          "Tajikistan",
          "Trinidad and Tobago",
          "Turkey",
          "Vietnam"
         ],
         "legendgroup": "2",
         "marker": {
          "color": "#ab63fa",
          "symbol": "circle"
         },
         "mode": "markers",
         "name": "2",
         "orientation": "v",
         "showlegend": true,
         "type": "scatter",
         "x": [
          63.313,
          56.397,
          83.245,
          89.506,
          79.483,
          46.025,
          48.415,
          30.607,
          24.232,
          61.428,
          67.829,
          78.062,
          42.783,
          90.092,
          51.836,
          44.196,
          34.926,
          70.893,
          91.418,
          57.671,
          36.856,
          36.29,
          29.028,
          38.534,
          43.909,
          16.626,
          80.988,
          68.414,
          62.183,
          74.754,
          17.432,
          27.506,
          53.214,
          76.105,
          37.34
         ],
         "xaxis": "x",
         "y": [
          1.005,
          0.976,
          1.006,
          0.963,
          1.01,
          0.99,
          0.845,
          0.879,
          0.926,
          0.963,
          0.907,
          0.844,
          0.88,
          0.982,
          0.917,
          0.864,
          0.838,
          0.784,
          0.885,
          1.002,
          0.965,
          0.919,
          0.994,
          0.946,
          0.834,
          0.819,
          1.003,
          1.027,
          0.991,
          1.015,
          0.942,
          0.915,
          0.99,
          0.938,
          1.003
         ],
         "yaxis": "y"
        },
        {
         "hovertemplate": "<b>%{hovertext}</b><br><br>color=3<br>Urban population (% of total population)=%{x}<br>Gender Development Index=%{y}<extra></extra>",
         "hovertext": [
          "Austria",
          "Belgium",
          "Colombia",
          "France",
          "United Kingdom"
         ],
         "legendgroup": "3",
         "marker": {
          "color": "#FFA15A",
          "symbol": "circle"
         },
         "mode": "markers",
         "name": "3",
         "orientation": "v",
         "showlegend": true,
         "type": "scatter",
         "x": [
          58.748,
          98.079,
          81.425,
          80.975,
          83.903
         ],
         "xaxis": "x",
         "y": [
          0.974,
          0.974,
          0.988,
          0.99,
          0.988
         ],
         "yaxis": "y"
        },
        {
         "hovertemplate": "<b>%{hovertext}</b><br><br>color=4<br>Urban population (% of total population)=%{x}<br>Gender Development Index=%{y}<extra></extra>",
         "hovertext": [
          "Barbados",
          "Kiribati",
          "Liberia",
          "Tuvalu"
         ],
         "legendgroup": "4",
         "marker": {
          "color": "#19d3f3",
          "symbol": "circle"
         },
         "mode": "markers",
         "name": "4",
         "orientation": "v",
         "showlegend": true,
         "type": "scatter",
         "x": [
          31.191,
          55.594,
          52.089,
          64.014
         ],
         "xaxis": "x",
         "y": [
          1.029,
          0.965,
          0.86,
          0.981
         ],
         "yaxis": "y"
        },
        {
         "hovertemplate": "<b>%{hovertext}</b><br><br>color=5<br>Urban population (% of total population)=%{x}<br>Gender Development Index=%{y}<extra></extra>",
         "hovertext": [
          "Botswana",
          "Latvia",
          "Mozambique",
          "Poland",
          "Seychelles",
          "Thailand",
          "Ukraine",
          "Venezuela"
         ],
         "legendgroup": "5",
         "marker": {
          "color": "#FF6692",
          "symbol": "circle"
         },
         "mode": "markers",
         "name": "5",
         "orientation": "v",
         "showlegend": true,
         "type": "scatter",
         "x": [
          70.877,
          68.315,
          37.074,
          60.043,
          57.546,
          51.43,
          69.608,
          88.279
         ],
         "xaxis": "x",
         "y": [
          0.988,
          1.02,
          0.927,
          1.009,
          1.07,
          1.012,
          1.013,
          1.001
         ],
         "yaxis": "y"
        },
        {
         "hovertemplate": "<b>%{hovertext}</b><br><br>color=6<br>Urban population (% of total population)=%{x}<br>Gender Development Index=%{y}<extra></extra>",
         "hovertext": [
          "Bulgaria",
          "Suriname"
         ],
         "legendgroup": "6",
         "marker": {
          "color": "#B6E880",
          "symbol": "circle"
         },
         "mode": "markers",
         "name": "6",
         "orientation": "v",
         "showlegend": true,
         "type": "scatter",
         "x": [
          75.686,
          66.149
         ],
         "xaxis": "x",
         "y": [
          0.997,
          0.99
         ],
         "yaxis": "y"
        },
        {
         "hovertemplate": "<b>%{hovertext}</b><br><br>color=7<br>Urban population (% of total population)=%{x}<br>Gender Development Index=%{y}<extra></extra>",
         "hovertext": [
          "Canada",
          "Spain",
          "Uruguay"
         ],
         "legendgroup": "7",
         "marker": {
          "color": "#FF97FF",
          "symbol": "circle"
         },
         "mode": "markers",
         "name": "7",
         "orientation": "v",
         "showlegend": true,
         "type": "scatter",
         "x": [
          81.562,
          80.81,
          95.515
         ],
         "xaxis": "x",
         "y": [
          0.988,
          0.991,
          1.022
         ],
         "yaxis": "y"
        },
        {
         "hovertemplate": "<b>%{hovertext}</b><br><br>color=8<br>Urban population (% of total population)=%{x}<br>Gender Development Index=%{y}<extra></extra>",
         "hovertext": [
          "Croatia",
          "Cyprus",
          "Hungary",
          "Montenegro"
         ],
         "legendgroup": "8",
         "marker": {
          "color": "#FECB52",
          "symbol": "circle"
         },
         "mode": "markers",
         "name": "8",
         "orientation": "v",
         "showlegend": true,
         "type": "scatter",
         "x": [
          57.553,
          66.821,
          71.942,
          67.488
         ],
         "xaxis": "x",
         "y": [
          0.991,
          0.974,
          0.983,
          0.968
         ],
         "yaxis": "y"
        },
        {
         "hovertemplate": "<b>%{hovertext}</b><br><br>color=9<br>Urban population (% of total population)=%{x}<br>Gender Development Index=%{y}<extra></extra>",
         "hovertext": [
          "Estonia",
          "Slovenia"
         ],
         "legendgroup": "9",
         "marker": {
          "color": "#636efa",
          "symbol": "circle"
         },
         "mode": "markers",
         "name": "9",
         "orientation": "v",
         "showlegend": true,
         "type": "scatter",
         "x": [
          69.229,
          55.118
         ],
         "xaxis": "x",
         "y": [
          1.019,
          1.003
         ],
         "yaxis": "y"
        },
        {
         "hovertemplate": "<b>%{hovertext}</b><br><br>color=10<br>Urban population (% of total population)=%{x}<br>Gender Development Index=%{y}<extra></extra>",
         "hovertext": [
          "Finland",
          "Norway"
         ],
         "legendgroup": "10",
         "marker": {
          "color": "#EF553B",
          "symbol": "circle"
         },
         "mode": "markers",
         "name": "10",
         "orientation": "v",
         "showlegend": true,
         "type": "scatter",
         "x": [
          85.517,
          82.974
         ],
         "xaxis": "x",
         "y": [
          0.99,
          0.984
         ],
         "yaxis": "y"
        },
        {
         "hovertemplate": "<b>%{hovertext}</b><br><br>color=11<br>Urban population (% of total population)=%{x}<br>Gender Development Index=%{y}<extra></extra>",
         "hovertext": [
          "Georgia",
          "Mongolia",
          "North Macedonia"
         ],
         "legendgroup": "11",
         "marker": {
          "color": "#00cc96",
          "symbol": "circle"
         },
         "mode": "markers",
         "name": "11",
         "orientation": "v",
         "showlegend": true,
         "type": "scatter",
         "x": [
          59.453,
          68.657,
          58.482
         ],
         "xaxis": "x",
         "y": [
          1.003,
          1.045,
          0.947
         ],
         "yaxis": "y"
        },
        {
         "hovertemplate": "<b>%{hovertext}</b><br><br>color=12<br>Urban population (% of total population)=%{x}<br>Gender Development Index=%{y}<extra></extra>",
         "hovertext": [
          "Iceland",
          "Ireland"
         ],
         "legendgroup": "12",
         "marker": {
          "color": "#ab63fa",
          "symbol": "circle"
         },
         "mode": "markers",
         "name": "12",
         "orientation": "v",
         "showlegend": true,
         "type": "scatter",
         "x": [
          93.898,
          63.653
         ],
         "xaxis": "x",
         "y": [
          0.982,
          0.978
         ],
         "yaxis": "y"
        },
        {
         "hovertemplate": "<b>%{hovertext}</b><br><br>color=13<br>Urban population (% of total population)=%{x}<br>Gender Development Index=%{y}<extra></extra>",
         "hovertext": [
          "Philippines",
          "South Korea"
         ],
         "legendgroup": "13",
         "marker": {
          "color": "#FFA15A",
          "symbol": "circle"
         },
         "mode": "markers",
         "name": "13",
         "orientation": "v",
         "showlegend": true,
         "type": "scatter",
         "x": [
          47.408,
          81.414
         ],
         "xaxis": "x",
         "y": [
          0.987,
          0.946
         ],
         "yaxis": "y"
        }
       ],
       "layout": {
        "legend": {
         "title": {
          "text": "color"
         },
         "tracegroupgap": 0
        },
        "template": {
         "data": {
          "bar": [
           {
            "error_x": {
             "color": "#2a3f5f"
            },
            "error_y": {
             "color": "#2a3f5f"
            },
            "marker": {
             "line": {
              "color": "#E5ECF6",
              "width": 0.5
             },
             "pattern": {
              "fillmode": "overlay",
              "size": 10,
              "solidity": 0.2
             }
            },
            "type": "bar"
           }
          ],
          "barpolar": [
           {
            "marker": {
             "line": {
              "color": "#E5ECF6",
              "width": 0.5
             },
             "pattern": {
              "fillmode": "overlay",
              "size": 10,
              "solidity": 0.2
             }
            },
            "type": "barpolar"
           }
          ],
          "carpet": [
           {
            "aaxis": {
             "endlinecolor": "#2a3f5f",
             "gridcolor": "white",
             "linecolor": "white",
             "minorgridcolor": "white",
             "startlinecolor": "#2a3f5f"
            },
            "baxis": {
             "endlinecolor": "#2a3f5f",
             "gridcolor": "white",
             "linecolor": "white",
             "minorgridcolor": "white",
             "startlinecolor": "#2a3f5f"
            },
            "type": "carpet"
           }
          ],
          "choropleth": [
           {
            "colorbar": {
             "outlinewidth": 0,
             "ticks": ""
            },
            "type": "choropleth"
           }
          ],
          "contour": [
           {
            "colorbar": {
             "outlinewidth": 0,
             "ticks": ""
            },
            "colorscale": [
             [
              0,
              "#0d0887"
             ],
             [
              0.1111111111111111,
              "#46039f"
             ],
             [
              0.2222222222222222,
              "#7201a8"
             ],
             [
              0.3333333333333333,
              "#9c179e"
             ],
             [
              0.4444444444444444,
              "#bd3786"
             ],
             [
              0.5555555555555556,
              "#d8576b"
             ],
             [
              0.6666666666666666,
              "#ed7953"
             ],
             [
              0.7777777777777778,
              "#fb9f3a"
             ],
             [
              0.8888888888888888,
              "#fdca26"
             ],
             [
              1,
              "#f0f921"
             ]
            ],
            "type": "contour"
           }
          ],
          "contourcarpet": [
           {
            "colorbar": {
             "outlinewidth": 0,
             "ticks": ""
            },
            "type": "contourcarpet"
           }
          ],
          "heatmap": [
           {
            "colorbar": {
             "outlinewidth": 0,
             "ticks": ""
            },
            "colorscale": [
             [
              0,
              "#0d0887"
             ],
             [
              0.1111111111111111,
              "#46039f"
             ],
             [
              0.2222222222222222,
              "#7201a8"
             ],
             [
              0.3333333333333333,
              "#9c179e"
             ],
             [
              0.4444444444444444,
              "#bd3786"
             ],
             [
              0.5555555555555556,
              "#d8576b"
             ],
             [
              0.6666666666666666,
              "#ed7953"
             ],
             [
              0.7777777777777778,
              "#fb9f3a"
             ],
             [
              0.8888888888888888,
              "#fdca26"
             ],
             [
              1,
              "#f0f921"
             ]
            ],
            "type": "heatmap"
           }
          ],
          "heatmapgl": [
           {
            "colorbar": {
             "outlinewidth": 0,
             "ticks": ""
            },
            "colorscale": [
             [
              0,
              "#0d0887"
             ],
             [
              0.1111111111111111,
              "#46039f"
             ],
             [
              0.2222222222222222,
              "#7201a8"
             ],
             [
              0.3333333333333333,
              "#9c179e"
             ],
             [
              0.4444444444444444,
              "#bd3786"
             ],
             [
              0.5555555555555556,
              "#d8576b"
             ],
             [
              0.6666666666666666,
              "#ed7953"
             ],
             [
              0.7777777777777778,
              "#fb9f3a"
             ],
             [
              0.8888888888888888,
              "#fdca26"
             ],
             [
              1,
              "#f0f921"
             ]
            ],
            "type": "heatmapgl"
           }
          ],
          "histogram": [
           {
            "marker": {
             "pattern": {
              "fillmode": "overlay",
              "size": 10,
              "solidity": 0.2
             }
            },
            "type": "histogram"
           }
          ],
          "histogram2d": [
           {
            "colorbar": {
             "outlinewidth": 0,
             "ticks": ""
            },
            "colorscale": [
             [
              0,
              "#0d0887"
             ],
             [
              0.1111111111111111,
              "#46039f"
             ],
             [
              0.2222222222222222,
              "#7201a8"
             ],
             [
              0.3333333333333333,
              "#9c179e"
             ],
             [
              0.4444444444444444,
              "#bd3786"
             ],
             [
              0.5555555555555556,
              "#d8576b"
             ],
             [
              0.6666666666666666,
              "#ed7953"
             ],
             [
              0.7777777777777778,
              "#fb9f3a"
             ],
             [
              0.8888888888888888,
              "#fdca26"
             ],
             [
              1,
              "#f0f921"
             ]
            ],
            "type": "histogram2d"
           }
          ],
          "histogram2dcontour": [
           {
            "colorbar": {
             "outlinewidth": 0,
             "ticks": ""
            },
            "colorscale": [
             [
              0,
              "#0d0887"
             ],
             [
              0.1111111111111111,
              "#46039f"
             ],
             [
              0.2222222222222222,
              "#7201a8"
             ],
             [
              0.3333333333333333,
              "#9c179e"
             ],
             [
              0.4444444444444444,
              "#bd3786"
             ],
             [
              0.5555555555555556,
              "#d8576b"
             ],
             [
              0.6666666666666666,
              "#ed7953"
             ],
             [
              0.7777777777777778,
              "#fb9f3a"
             ],
             [
              0.8888888888888888,
              "#fdca26"
             ],
             [
              1,
              "#f0f921"
             ]
            ],
            "type": "histogram2dcontour"
           }
          ],
          "mesh3d": [
           {
            "colorbar": {
             "outlinewidth": 0,
             "ticks": ""
            },
            "type": "mesh3d"
           }
          ],
          "parcoords": [
           {
            "line": {
             "colorbar": {
              "outlinewidth": 0,
              "ticks": ""
             }
            },
            "type": "parcoords"
           }
          ],
          "pie": [
           {
            "automargin": true,
            "type": "pie"
           }
          ],
          "scatter": [
           {
            "fillpattern": {
             "fillmode": "overlay",
             "size": 10,
             "solidity": 0.2
            },
            "type": "scatter"
           }
          ],
          "scatter3d": [
           {
            "line": {
             "colorbar": {
              "outlinewidth": 0,
              "ticks": ""
             }
            },
            "marker": {
             "colorbar": {
              "outlinewidth": 0,
              "ticks": ""
             }
            },
            "type": "scatter3d"
           }
          ],
          "scattercarpet": [
           {
            "marker": {
             "colorbar": {
              "outlinewidth": 0,
              "ticks": ""
             }
            },
            "type": "scattercarpet"
           }
          ],
          "scattergeo": [
           {
            "marker": {
             "colorbar": {
              "outlinewidth": 0,
              "ticks": ""
             }
            },
            "type": "scattergeo"
           }
          ],
          "scattergl": [
           {
            "marker": {
             "colorbar": {
              "outlinewidth": 0,
              "ticks": ""
             }
            },
            "type": "scattergl"
           }
          ],
          "scattermapbox": [
           {
            "marker": {
             "colorbar": {
              "outlinewidth": 0,
              "ticks": ""
             }
            },
            "type": "scattermapbox"
           }
          ],
          "scatterpolar": [
           {
            "marker": {
             "colorbar": {
              "outlinewidth": 0,
              "ticks": ""
             }
            },
            "type": "scatterpolar"
           }
          ],
          "scatterpolargl": [
           {
            "marker": {
             "colorbar": {
              "outlinewidth": 0,
              "ticks": ""
             }
            },
            "type": "scatterpolargl"
           }
          ],
          "scatterternary": [
           {
            "marker": {
             "colorbar": {
              "outlinewidth": 0,
              "ticks": ""
             }
            },
            "type": "scatterternary"
           }
          ],
          "surface": [
           {
            "colorbar": {
             "outlinewidth": 0,
             "ticks": ""
            },
            "colorscale": [
             [
              0,
              "#0d0887"
             ],
             [
              0.1111111111111111,
              "#46039f"
             ],
             [
              0.2222222222222222,
              "#7201a8"
             ],
             [
              0.3333333333333333,
              "#9c179e"
             ],
             [
              0.4444444444444444,
              "#bd3786"
             ],
             [
              0.5555555555555556,
              "#d8576b"
             ],
             [
              0.6666666666666666,
              "#ed7953"
             ],
             [
              0.7777777777777778,
              "#fb9f3a"
             ],
             [
              0.8888888888888888,
              "#fdca26"
             ],
             [
              1,
              "#f0f921"
             ]
            ],
            "type": "surface"
           }
          ],
          "table": [
           {
            "cells": {
             "fill": {
              "color": "#EBF0F8"
             },
             "line": {
              "color": "white"
             }
            },
            "header": {
             "fill": {
              "color": "#C8D4E3"
             },
             "line": {
              "color": "white"
             }
            },
            "type": "table"
           }
          ]
         },
         "layout": {
          "annotationdefaults": {
           "arrowcolor": "#2a3f5f",
           "arrowhead": 0,
           "arrowwidth": 1
          },
          "autotypenumbers": "strict",
          "coloraxis": {
           "colorbar": {
            "outlinewidth": 0,
            "ticks": ""
           }
          },
          "colorscale": {
           "diverging": [
            [
             0,
             "#8e0152"
            ],
            [
             0.1,
             "#c51b7d"
            ],
            [
             0.2,
             "#de77ae"
            ],
            [
             0.3,
             "#f1b6da"
            ],
            [
             0.4,
             "#fde0ef"
            ],
            [
             0.5,
             "#f7f7f7"
            ],
            [
             0.6,
             "#e6f5d0"
            ],
            [
             0.7,
             "#b8e186"
            ],
            [
             0.8,
             "#7fbc41"
            ],
            [
             0.9,
             "#4d9221"
            ],
            [
             1,
             "#276419"
            ]
           ],
           "sequential": [
            [
             0,
             "#0d0887"
            ],
            [
             0.1111111111111111,
             "#46039f"
            ],
            [
             0.2222222222222222,
             "#7201a8"
            ],
            [
             0.3333333333333333,
             "#9c179e"
            ],
            [
             0.4444444444444444,
             "#bd3786"
            ],
            [
             0.5555555555555556,
             "#d8576b"
            ],
            [
             0.6666666666666666,
             "#ed7953"
            ],
            [
             0.7777777777777778,
             "#fb9f3a"
            ],
            [
             0.8888888888888888,
             "#fdca26"
            ],
            [
             1,
             "#f0f921"
            ]
           ],
           "sequentialminus": [
            [
             0,
             "#0d0887"
            ],
            [
             0.1111111111111111,
             "#46039f"
            ],
            [
             0.2222222222222222,
             "#7201a8"
            ],
            [
             0.3333333333333333,
             "#9c179e"
            ],
            [
             0.4444444444444444,
             "#bd3786"
            ],
            [
             0.5555555555555556,
             "#d8576b"
            ],
            [
             0.6666666666666666,
             "#ed7953"
            ],
            [
             0.7777777777777778,
             "#fb9f3a"
            ],
            [
             0.8888888888888888,
             "#fdca26"
            ],
            [
             1,
             "#f0f921"
            ]
           ]
          },
          "colorway": [
           "#636efa",
           "#EF553B",
           "#00cc96",
           "#ab63fa",
           "#FFA15A",
           "#19d3f3",
           "#FF6692",
           "#B6E880",
           "#FF97FF",
           "#FECB52"
          ],
          "font": {
           "color": "#2a3f5f"
          },
          "geo": {
           "bgcolor": "white",
           "lakecolor": "white",
           "landcolor": "#E5ECF6",
           "showlakes": true,
           "showland": true,
           "subunitcolor": "white"
          },
          "hoverlabel": {
           "align": "left"
          },
          "hovermode": "closest",
          "mapbox": {
           "style": "light"
          },
          "paper_bgcolor": "white",
          "plot_bgcolor": "#E5ECF6",
          "polar": {
           "angularaxis": {
            "gridcolor": "white",
            "linecolor": "white",
            "ticks": ""
           },
           "bgcolor": "#E5ECF6",
           "radialaxis": {
            "gridcolor": "white",
            "linecolor": "white",
            "ticks": ""
           }
          },
          "scene": {
           "xaxis": {
            "backgroundcolor": "#E5ECF6",
            "gridcolor": "white",
            "gridwidth": 2,
            "linecolor": "white",
            "showbackground": true,
            "ticks": "",
            "zerolinecolor": "white"
           },
           "yaxis": {
            "backgroundcolor": "#E5ECF6",
            "gridcolor": "white",
            "gridwidth": 2,
            "linecolor": "white",
            "showbackground": true,
            "ticks": "",
            "zerolinecolor": "white"
           },
           "zaxis": {
            "backgroundcolor": "#E5ECF6",
            "gridcolor": "white",
            "gridwidth": 2,
            "linecolor": "white",
            "showbackground": true,
            "ticks": "",
            "zerolinecolor": "white"
           }
          },
          "shapedefaults": {
           "line": {
            "color": "#2a3f5f"
           }
          },
          "ternary": {
           "aaxis": {
            "gridcolor": "white",
            "linecolor": "white",
            "ticks": ""
           },
           "baxis": {
            "gridcolor": "white",
            "linecolor": "white",
            "ticks": ""
           },
           "bgcolor": "#E5ECF6",
           "caxis": {
            "gridcolor": "white",
            "linecolor": "white",
            "ticks": ""
           }
          },
          "title": {
           "x": 0.05
          },
          "xaxis": {
           "automargin": true,
           "gridcolor": "white",
           "linecolor": "white",
           "ticks": "",
           "title": {
            "standoff": 15
           },
           "zerolinecolor": "white",
           "zerolinewidth": 2
          },
          "yaxis": {
           "automargin": true,
           "gridcolor": "white",
           "linecolor": "white",
           "ticks": "",
           "title": {
            "standoff": 15
           },
           "zerolinecolor": "white",
           "zerolinewidth": 2
          }
         }
        },
        "title": {
         "text": "DBSCAN Clustering of Countries"
        },
        "xaxis": {
         "anchor": "y",
         "domain": [
          0,
          1
         ],
         "title": {
          "text": "Urban population (% of total population)"
         }
        },
        "yaxis": {
         "anchor": "x",
         "domain": [
          0,
          1
         ],
         "title": {
          "text": "Gender Development Index"
         }
        }
       }
      }
     },
     "metadata": {},
     "output_type": "display_data"
    }
   ],
   "source": [
    "fig = px.scatter(\n",
    "    df,\n",
    "    x=\"Urban population (% of total population)\",\n",
    "    y=\"Gender Development Index\",\n",
    "    color=df[\"Cluster\"].astype(str),  # Convert cluster labels to string for color coding\n",
    "    hover_name=\"COUNTRY\",\n",
    "    title=\"DBSCAN Clustering of Countries\",\n",
    "    labels={\"Cluster\": \"Cluster\"},\n",
    ")\n",
    "fig.show()\n"
   ]
  },
  {
   "cell_type": "code",
   "execution_count": 82,
   "metadata": {},
   "outputs": [
    {
     "name": "stdout",
     "output_type": "stream",
     "text": [
      "          EMPLOY.  Gender Development Index  \\\n",
      "Cluster                                       \n",
      "-1       0.782609                  0.971543   \n",
      " 0       0.000000                  0.912370   \n",
      " 1       1.000000                  0.977286   \n",
      " 2       0.000000                  0.936200   \n",
      " 3       1.000000                  0.982800   \n",
      " 4       1.000000                  0.958750   \n",
      " 5       1.000000                  1.005000   \n",
      " 6       1.000000                  0.993500   \n",
      " 7       1.000000                  1.000333   \n",
      " 8       1.000000                  0.979000   \n",
      " 9       1.000000                  1.011000   \n",
      " 10      1.000000                  0.987000   \n",
      " 11      1.000000                  0.998333   \n",
      " 12      1.000000                  0.980000   \n",
      " 13      0.500000                  0.966500   \n",
      "\n",
      "         Urban population (% of total population)  \n",
      "Cluster                                            \n",
      "-1                                      67.234130  \n",
      " 0                                      48.504739  \n",
      " 1                                      63.406429  \n",
      " 2                                      54.615314  \n",
      " 3                                      80.626000  \n",
      " 4                                      50.722000  \n",
      " 5                                      62.896500  \n",
      " 6                                      70.917500  \n",
      " 7                                      85.962333  \n",
      " 8                                      65.951000  \n",
      " 9                                      62.173500  \n",
      " 10                                     84.245500  \n",
      " 11                                     62.197333  \n",
      " 12                                     78.775500  \n",
      " 13                                     64.411000  \n"
     ]
    }
   ],
   "source": [
    "# Calculate mean values for key features by cluster\n",
    "cluster_summary = df.groupby(\"Cluster\")[[\"EMPLOY.\", \"Gender Development Index\", \"Urban population (% of total population)\"]].mean()\n",
    "\n",
    "# Print the summary\n",
    "print(cluster_summary)\n",
    "\n"
   ]
  },
  {
   "cell_type": "code",
   "execution_count": 84,
   "metadata": {},
   "outputs": [
    {
     "data": {
      "image/png": "[encoded data removed]",
      "text/plain": [
       "<Figure size 1000x600 with 2 Axes>"
      ]
     },
     "metadata": {},
     "output_type": "display_data"
    }
   ],
   "source": [
    "plt.figure(figsize=(10, 6))\n",
    "sns.heatmap(cluster_summary, annot=True, cmap=\"coolwarm\")\n",
    "plt.title(\"Cluster Summary Heatmap\")\n",
    "plt.xlabel(\"Features\")\n",
    "plt.ylabel(\"Cluster\")\n",
    "plt.show()\n"
   ]
  },
  {
   "cell_type": "markdown",
   "metadata": {},
   "source": [
    "This heatmap summarizes the clusters formed by DBSCAN, showing the average values for employment protection (EMPLOY.), Gender Development Index (GDI), and urban population percentage for each cluster. Clusters with high GDI (close to 1) and urban population (e.g., Cluster 5) tend to have full employment protection, while clusters with low employment protection (e.g., Cluster 0) often correspond to lower urban population and GDI values."
   ]
  },
  {
   "cell_type": "markdown",
   "metadata": {},
   "source": [
    "## Feature importance"
   ]
  },
  {
   "cell_type": "code",
   "execution_count": 85,
   "metadata": {},
   "outputs": [],
   "source": [
    "from sklearn.ensemble import RandomForestClassifier\n",
    "from sklearn.model_selection import train_test_split"
   ]
  },
  {
   "cell_type": "code",
   "execution_count": 95,
   "metadata": {},
   "outputs": [],
   "source": [
    "X = df.drop(columns=[\"EMPLOY.\", \"COUNTRY\", \"Cluster\"])  # Features (excluding target and country)\n",
    "y = (df[\"EMPLOY.\"] > 0.5).astype(int)  # Convert fractional values to 0 or 1\n",
    "\n",
    "\n",
    "# Scale the features\n",
    "scaler = MinMaxScaler()\n",
    "X_scaled = scaler.fit_transform(X)\n",
    "\n",
    "# Train-test split\n",
    "X_train, X_test, y_train, y_test = train_test_split(X_scaled, y, test_size=0.3, random_state=42)"
   ]
  },
  {
   "cell_type": "code",
   "execution_count": 96,
   "metadata": {},
   "outputs": [],
   "source": [
    "rf_model = RandomForestClassifier(random_state=42)\n",
    "rf_model.fit(X_train, y_train)\n",
    "\n",
    "# Get feature importances\n",
    "feature_importances = rf_model.feature_importances_"
   ]
  },
  {
   "cell_type": "code",
   "execution_count": 97,
   "metadata": {},
   "outputs": [
    {
     "data": {
      "image/png": "[encoded data removed]",
      "text/plain": [
       "<Figure size 1000x600 with 1 Axes>"
      ]
     },
     "metadata": {},
     "output_type": "display_data"
    }
   ],
   "source": [
    "features = X.columns\n",
    "importance_df = pd.DataFrame({\n",
    "    \"Feature\": features,\n",
    "    \"Importance\": feature_importances\n",
    "}).sort_values(by=\"Importance\", ascending=False)\n",
    "\n",
    "# Plot feature importances\n",
    "plt.figure(figsize=(10, 6))\n",
    "plt.barh(importance_df[\"Feature\"], importance_df[\"Importance\"], color=\"skyblue\")\n",
    "plt.xlabel(\"Feature Importance\")\n",
    "plt.ylabel(\"Feature\")\n",
    "plt.title(\"Feature Importance for LGBT Employment Rights\")\n",
    "plt.gca().invert_yaxis() \n",
    "plt.show()"
   ]
  }
 ],
 "metadata": {
  "kernelspec": {
   "display_name": "NER",
   "language": "python",
   "name": "python3"
  },
  "language_info": {
   "codemirror_mode": {
    "name": "ipython",
    "version": 3
   },
   "file_extension": ".py",
   "mimetype": "text/x-python",
   "name": "python",
   "nbconvert_exporter": "python",
   "pygments_lexer": "ipython3",
   "version": "3.11.8"
  }
 },
 "nbformat": 4,
 "nbformat_minor": 2
}
